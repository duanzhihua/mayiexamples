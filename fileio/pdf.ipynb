{
 "cells": [
  {
   "cell_type": "markdown",
   "metadata": {},
   "source": [
    "# python提取PDF文档中的图片\n",
    "https://www.cnblogs.com/zhaco/p/10654956.html"
   ]
  },
  {
   "cell_type": "code",
   "execution_count": 13,
   "metadata": {},
   "outputs": [],
   "source": [
    "# !pip install pymupdf\n",
    "!pip freeze | grep fitz"
   ]
  },
  {
   "cell_type": "code",
   "execution_count": 21,
   "metadata": {},
   "outputs": [],
   "source": [
    "import fitz\n",
    "import time\n",
    "import re\n",
    "import os\n",
    "def pdf2pic(pdf_dir, pdf_file, pic_path):\n",
    "    t0 = time.clock()                          # 生成图片初始时间\n",
    "    checkXO = r\"/Type(?= */XObject)\"           # 使用正则表达式来查找图片\n",
    "    checkIM = r\"/Subtype(?= */Image)\"\n",
    "    doc = fitz.open(os.path.join(pdf_dir, pdf_file))                      # 打开pdf文件\n",
    "    imgcount = 0                               # 图片计数\n",
    "    lenXREF = doc._getXrefLength()             # 获取对象数量长度\n",
    "     \n",
    "    # 打印PDF的信息\n",
    "    print(\"文件名:{}, 页数: {}, 对象: {}\".format(path, len(doc), lenXREF - 1))\n",
    "     \n",
    "    # 遍历每一个对象\n",
    "    for i in range(1, lenXREF):\n",
    "        text = doc._getXrefString(i)            # 定义对象字符串\n",
    "        isXObject = re.search(checkXO, text)    # 使用正则表达式查看是否是对象\n",
    "        isImage = re.search(checkIM, text)      # 使用正则表达式查看是否是图片\n",
    "        if not isXObject or not isImage:        # 如果不是对象也不是图片，则continue\n",
    "            continue\n",
    "        imgcount += 1\n",
    "        pix = fitz.Pixmap(doc, i)               # 生成图像对象\n",
    "        new_name = f\"{path}_{imgcount}.png\" # 生成图片的名称\n",
    "        if pix.n < 5:                           # 如果pix.n<5,可以直接存为PNG\n",
    "            pix.writePNG(os.path.join(pic_path, new_name))\n",
    "        else:                                   # 否则先转换CMYK\n",
    "            pix0 = fitz.Pixmap(fitz.csRGB, pix)\n",
    "            pix0.writePNG(os.path.join(pic_path, new_name))\n",
    "            pix0 = None\n",
    "        pix = None                              # 释放资源\n",
    "        t1 = time.clock()                       # 图片完成时间\n",
    "        print(\"运行时间:{}s\".format(t1 - t0))\n",
    "        print(\"提取了{}张图片\".format(imgcount))"
   ]
  },
  {
   "cell_type": "code",
   "execution_count": 18,
   "metadata": {},
   "outputs": [
    {
     "data": {
      "text/plain": [
       "['840519.pdf', '846345.pdf', '1072649.pdf', '1091869.pdf', '1093310.pdf']"
      ]
     },
     "execution_count": 18,
     "metadata": {},
     "output_type": "execute_result"
    }
   ],
   "source": [
    "pdf_dir = 'pdf_files'\n",
    "os.listdir(pdf_dir)"
   ]
  },
  {
   "cell_type": "code",
   "execution_count": 23,
   "metadata": {},
   "outputs": [
    {
     "name": "stdout",
     "output_type": "stream",
     "text": [
      "840519.pdf\n",
      "文件名:840519.pdf, 页数: 19, 对象: 184\n"
     ]
    },
    {
     "name": "stderr",
     "output_type": "stream",
     "text": [
      "/Users/luoyonggui/anaconda3/lib/python3.7/site-packages/ipykernel_launcher.py:6: DeprecationWarning: time.clock has been deprecated in Python 3.3 and will be removed from Python 3.8: use time.perf_counter or time.process_time instead\n",
      "  \n",
      "/Users/luoyonggui/anaconda3/lib/python3.7/site-packages/ipykernel_launcher.py:33: DeprecationWarning: time.clock has been deprecated in Python 3.3 and will be removed from Python 3.8: use time.perf_counter or time.process_time instead\n"
     ]
    },
    {
     "name": "stdout",
     "output_type": "stream",
     "text": [
      "运行时间:0.20293799999999962s\n",
      "提取了1张图片\n",
      "运行时间:0.4285759999999996s\n",
      "提取了2张图片\n",
      "运行时间:0.5292399999999997s\n",
      "提取了3张图片\n",
      "运行时间:0.6425250000000009s\n",
      "提取了4张图片\n",
      "运行时间:0.7636470000000006s\n",
      "提取了5张图片\n",
      "运行时间:0.8775650000000006s\n",
      "提取了6张图片\n",
      "运行时间:0.9931490000000007s\n",
      "提取了7张图片\n",
      "运行时间:1.092715s\n",
      "提取了8张图片\n",
      "运行时间:1.2456940000000003s\n",
      "提取了9张图片\n",
      "运行时间:1.391217000000001s\n",
      "提取了10张图片\n",
      "运行时间:1.5407260000000012s\n",
      "提取了11张图片\n",
      "运行时间:1.670732000000001s\n",
      "提取了12张图片\n",
      "运行时间:1.808465s\n",
      "提取了13张图片\n",
      "运行时间:1.9279030000000006s\n",
      "提取了14张图片\n",
      "运行时间:2.022602000000001s\n",
      "提取了15张图片\n",
      "运行时间:2.1617680000000004s\n",
      "提取了16张图片\n",
      "运行时间:2.268588000000001s\n",
      "提取了17张图片\n",
      "运行时间:2.432609000000001s\n",
      "提取了18张图片\n",
      "运行时间:2.571034000000001s\n",
      "提取了19张图片\n",
      "846345.pdf\n",
      "文件名:846345.pdf, 页数: 11, 对象: 113\n",
      "运行时间:0.23982499999999973s\n",
      "提取了1张图片\n",
      "运行时间:0.3653639999999996s\n",
      "提取了2张图片\n",
      "运行时间:0.48155399999999915s\n",
      "提取了3张图片\n",
      "运行时间:0.6341329999999985s\n",
      "提取了4张图片\n",
      "运行时间:0.7627989999999993s\n",
      "提取了5张图片\n",
      "运行时间:0.9406999999999996s\n",
      "提取了6张图片\n",
      "运行时间:1.0977029999999992s\n",
      "提取了7张图片\n",
      "运行时间:1.2553429999999999s\n",
      "提取了8张图片\n",
      "运行时间:1.4095369999999985s\n",
      "提取了9张图片\n",
      "运行时间:1.5171569999999992s\n",
      "提取了10张图片\n",
      "运行时间:1.7200689999999987s\n",
      "提取了11张图片\n",
      "1072649.pdf\n",
      "文件名:1072649.pdf, 页数: 8, 对象: 41\n",
      "运行时间:0.2207699999999999s\n",
      "提取了1张图片\n",
      "运行时间:0.38432500000000047s\n",
      "提取了2张图片\n",
      "运行时间:0.48160000000000025s\n",
      "提取了3张图片\n",
      "运行时间:0.7798940000000005s\n",
      "提取了4张图片\n",
      "运行时间:0.9312510000000014s\n",
      "提取了5张图片\n",
      "运行时间:1.048115000000001s\n",
      "提取了6张图片\n",
      "运行时间:1.3474379999999986s\n",
      "提取了7张图片\n",
      "运行时间:1.4599729999999997s\n",
      "提取了8张图片\n",
      "1091869.pdf\n",
      "文件名:1091869.pdf, 页数: 10, 对象: 47\n",
      "运行时间:0.18476099999999818s\n",
      "提取了1张图片\n",
      "运行时间:0.31381800000000126s\n",
      "提取了2张图片\n",
      "运行时间:0.4487409999999983s\n",
      "提取了3张图片\n",
      "运行时间:0.5790490000000013s\n",
      "提取了4张图片\n",
      "运行时间:0.7026910000000015s\n",
      "提取了5张图片\n",
      "运行时间:0.9376490000000004s\n",
      "提取了6张图片\n",
      "运行时间:1.2724650000000004s\n",
      "提取了7张图片\n",
      "运行时间:1.6322229999999998s\n",
      "提取了8张图片\n",
      "运行时间:1.7654940000000003s\n",
      "提取了9张图片\n",
      "运行时间:1.9309720000000006s\n",
      "提取了10张图片\n",
      "1093310.pdf\n",
      "文件名:1093310.pdf, 页数: 7, 对象: 86\n",
      "运行时间:0.1770150000000008s\n",
      "提取了1张图片\n",
      "运行时间:0.3049999999999997s\n",
      "提取了2张图片\n",
      "运行时间:0.9353790000000011s\n",
      "提取了3张图片\n",
      "运行时间:1.2302350000000004s\n",
      "提取了4张图片\n",
      "运行时间:1.3571579999999983s\n",
      "提取了5张图片\n",
      "运行时间:1.4771469999999987s\n",
      "提取了6张图片\n",
      "运行时间:1.675968000000001s\n",
      "提取了7张图片\n"
     ]
    },
    {
     "name": "stderr",
     "output_type": "stream",
     "text": [
      "mupdf: cannot find object in xref (80 0 R)\n"
     ]
    },
    {
     "ename": "RuntimeError",
     "evalue": "cannot find object in xref (80 0 R)",
     "output_type": "error",
     "traceback": [
      "\u001b[0;31m---------------------------------------------------------------------------\u001b[0m",
      "\u001b[0;31mRuntimeError\u001b[0m                              Traceback (most recent call last)",
      "\u001b[0;32m<ipython-input-23-703ff84c5940>\u001b[0m in \u001b[0;36m<module>\u001b[0;34m\u001b[0m\n\u001b[1;32m      9\u001b[0m     \u001b[0;32melse\u001b[0m\u001b[0;34m:\u001b[0m\u001b[0;34m\u001b[0m\u001b[0;34m\u001b[0m\u001b[0m\n\u001b[1;32m     10\u001b[0m         \u001b[0mos\u001b[0m\u001b[0;34m.\u001b[0m\u001b[0mmkdir\u001b[0m\u001b[0;34m(\u001b[0m\u001b[0mpic_path\u001b[0m\u001b[0;34m)\u001b[0m\u001b[0;34m\u001b[0m\u001b[0;34m\u001b[0m\u001b[0m\n\u001b[0;32m---> 11\u001b[0;31m     \u001b[0mpdf2pic\u001b[0m\u001b[0;34m(\u001b[0m\u001b[0mpdf_dir\u001b[0m\u001b[0;34m,\u001b[0m \u001b[0mpath\u001b[0m\u001b[0;34m,\u001b[0m \u001b[0mpic_path\u001b[0m\u001b[0;34m)\u001b[0m\u001b[0;34m\u001b[0m\u001b[0;34m\u001b[0m\u001b[0m\n\u001b[0m",
      "\u001b[0;32m<ipython-input-21-fbae1fb28ff5>\u001b[0m in \u001b[0;36mpdf2pic\u001b[0;34m(pdf_dir, pdf_file, pic_path)\u001b[0m\n\u001b[1;32m     16\u001b[0m     \u001b[0;31m# 遍历每一个对象\u001b[0m\u001b[0;34m\u001b[0m\u001b[0;34m\u001b[0m\u001b[0;34m\u001b[0m\u001b[0m\n\u001b[1;32m     17\u001b[0m     \u001b[0;32mfor\u001b[0m \u001b[0mi\u001b[0m \u001b[0;32min\u001b[0m \u001b[0mrange\u001b[0m\u001b[0;34m(\u001b[0m\u001b[0;36m1\u001b[0m\u001b[0;34m,\u001b[0m \u001b[0mlenXREF\u001b[0m\u001b[0;34m)\u001b[0m\u001b[0;34m:\u001b[0m\u001b[0;34m\u001b[0m\u001b[0;34m\u001b[0m\u001b[0m\n\u001b[0;32m---> 18\u001b[0;31m         \u001b[0mtext\u001b[0m \u001b[0;34m=\u001b[0m \u001b[0mdoc\u001b[0m\u001b[0;34m.\u001b[0m\u001b[0m_getXrefString\u001b[0m\u001b[0;34m(\u001b[0m\u001b[0mi\u001b[0m\u001b[0;34m)\u001b[0m            \u001b[0;31m# 定义对象字符串\u001b[0m\u001b[0;34m\u001b[0m\u001b[0;34m\u001b[0m\u001b[0m\n\u001b[0m\u001b[1;32m     19\u001b[0m         \u001b[0misXObject\u001b[0m \u001b[0;34m=\u001b[0m \u001b[0mre\u001b[0m\u001b[0;34m.\u001b[0m\u001b[0msearch\u001b[0m\u001b[0;34m(\u001b[0m\u001b[0mcheckXO\u001b[0m\u001b[0;34m,\u001b[0m \u001b[0mtext\u001b[0m\u001b[0;34m)\u001b[0m    \u001b[0;31m# 使用正则表达式查看是否是对象\u001b[0m\u001b[0;34m\u001b[0m\u001b[0;34m\u001b[0m\u001b[0m\n\u001b[1;32m     20\u001b[0m         \u001b[0misImage\u001b[0m \u001b[0;34m=\u001b[0m \u001b[0mre\u001b[0m\u001b[0;34m.\u001b[0m\u001b[0msearch\u001b[0m\u001b[0;34m(\u001b[0m\u001b[0mcheckIM\u001b[0m\u001b[0;34m,\u001b[0m \u001b[0mtext\u001b[0m\u001b[0;34m)\u001b[0m      \u001b[0;31m# 使用正则表达式查看是否是图片\u001b[0m\u001b[0;34m\u001b[0m\u001b[0;34m\u001b[0m\u001b[0m\n",
      "\u001b[0;32m~/anaconda3/lib/python3.7/site-packages/fitz/fitz.py\u001b[0m in \u001b[0;36m_getXrefString\u001b[0;34m(self, xref, compressed, ascii)\u001b[0m\n\u001b[1;32m   3121\u001b[0m             \u001b[0;32mraise\u001b[0m \u001b[0mValueError\u001b[0m\u001b[0;34m(\u001b[0m\u001b[0;34m\"document closed\"\u001b[0m\u001b[0;34m)\u001b[0m\u001b[0;34m\u001b[0m\u001b[0;34m\u001b[0m\u001b[0m\n\u001b[1;32m   3122\u001b[0m \u001b[0;34m\u001b[0m\u001b[0m\n\u001b[0;32m-> 3123\u001b[0;31m         \u001b[0;32mreturn\u001b[0m \u001b[0m_fitz\u001b[0m\u001b[0;34m.\u001b[0m\u001b[0mDocument__getXrefString\u001b[0m\u001b[0;34m(\u001b[0m\u001b[0mself\u001b[0m\u001b[0;34m,\u001b[0m \u001b[0mxref\u001b[0m\u001b[0;34m,\u001b[0m \u001b[0mcompressed\u001b[0m\u001b[0;34m,\u001b[0m \u001b[0mascii\u001b[0m\u001b[0;34m)\u001b[0m\u001b[0;34m\u001b[0m\u001b[0;34m\u001b[0m\u001b[0m\n\u001b[0m\u001b[1;32m   3124\u001b[0m \u001b[0;34m\u001b[0m\u001b[0m\n\u001b[1;32m   3125\u001b[0m \u001b[0;34m\u001b[0m\u001b[0m\n",
      "\u001b[0;31mRuntimeError\u001b[0m: cannot find object in xref (80 0 R)"
     ]
    }
   ],
   "source": [
    "# path = r\"840519.pdf\"\n",
    "# pic_path = r'840519'\n",
    "for path in os.listdir(pdf_dir):\n",
    "    print(path)\n",
    "    pic_path = os.path.join(pdf_dir, path.split('.')[0])\n",
    "    # 创建保存图片的文件夹\n",
    "    if os.path.exists(pic_path):\n",
    "        print(\"文件夹已存在，不必重新创建！\")\n",
    "    else:\n",
    "        os.mkdir(pic_path)\n",
    "    pdf2pic(pdf_dir, path, pic_path)"
   ]
  },
  {
   "cell_type": "markdown",
   "metadata": {},
   "source": [
    "## 识别图片"
   ]
  },
  {
   "cell_type": "code",
   "execution_count": 25,
   "metadata": {},
   "outputs": [],
   "source": [
    "from aip import AipOcr\n",
    "\n",
    "\"\"\" 你的 APPID AK SK \"\"\"\n",
    "APP_ID = '18441874'\n",
    "API_KEY = 'x3v8yAvk1ZhSYBfSlu93B224'\n",
    "SECRET_KEY = 'Z5l8W0SahiR9j5UM7GKkTnKsKaZENKFF'\n",
    "\n",
    "client = AipOcr(APP_ID, API_KEY, SECRET_KEY)\n",
    "\n",
    "\"\"\" 读取图片 \"\"\"\n",
    "def get_file_content(filePath):\n",
    "    with open(filePath, 'rb') as fp:\n",
    "        return fp.read()\n"
   ]
  },
  {
   "cell_type": "code",
   "execution_count": 31,
   "metadata": {
    "scrolled": true
   },
   "outputs": [
    {
     "name": "stdout",
     "output_type": "stream",
     "text": [
      "840519.pdf\n",
      "846345.pdf\n",
      "840519\n",
      "1093310\n",
      "1091869\n",
      "846345\n",
      "1072649.pdf\n",
      "['UNITE FORCE PHARMA', '51 Xuan Dieu, P Quang An, Q. Tay Ho, Ha Noi', 'Unite', 'DELIVERY NOTE', 'Force1', 'hieu giao hang', 'PHARMACY', 'Serial: DN-190309003', 'Copy to customer(Lien cho khach hang,', 'Delivery Da', 'Name', '(Ho ten', 'Company/Address: 72 HANOI LANDMARK, KEANGNAM TOWER', 'Patient File No', 'B06907', '(So HS bent nhan', 'Date Of Birth', '1974', '0', 'Price Amount pr', 'Batch- Lot/Exp', 'Dom gidCang ten hang', 'Glam Irt', 'Thanh ten', 'so 1o Han ding', 'Ma st', 'Ten S/', '18460AEr', '6.60', '198.000', '198000', 'A0058ALPHACHYMOTRYPSINE', '994.000', '89274.20200 TABLET', '49.700', '994,000', 'A0120JAUGMENTIN IG TABLET', '123.90', '123.9', 'V0033VOLTARENE EMULGEI', 'U02121A·2020.04TUBE', '(Cong fi', '1,315.900', 'Covered amount (Cong tien giam trur', 'Payable amount (So tien thanh toan)', '1.315.900', '65.795', 'VAT', '(Thue GTGT)', 'TOng tien thanh loan', '1,381,695', 'Total', 'In words:', 'One million three hundred eighty one thousand six hundred ninety five VND', '(Bang chup)', 'Mot trieu, ba tram tam muoi mot nghin, sau tram chin muoi lam VND', 'RAFFLES MEDICAL CLINIC', 'jiXUAN DIEU-HANOl-VIETNAM', 'TEL:(84)2436762222', '1 of 1', 'Sales Person', '(nguoi ban) HAN Pharmacy']\n",
      "['M', 'GTATAKDA-LIMITATIONS', 'RAFFLES MEDICAL CLINIC', 'SI XUAN DIEU.HANOI-VIETNAM', 'TEL:(84)2436762222']\n",
      "['RafflesMedical', 'Medical Report', 'This patient presented at Raffles Medical Clinic on', 'Complaint', 'Aemeu hr te mlt freebee /uck aai', 'fr p wines facokmeut', 'Onset date', 'one winte', 'e Past Medical History', 'dione fes', 'parv', 'ice ckcerresc', 'e Physical examination', 'BP', 'Pulse', '十s', 'Temp', 'Sat o2', 'GCS(if applicable)', '41/376', 'dr/', 'des ane', 'le lafera/ oda /h aF', '4G、32x26×w', 'Kwo)', '%y∠', 'Investigations:', 'e Diagnosis', 'e Treatment:', 'B', '● Review plan:', 'Me monk', 'Doctor Signature:', 'i RAFFLES MEDICAL CLINIE- Date: ag ar Lape', '2I XUAN DIEU- HANOI- VIETNAM', '4243676222', 'Raffles Medical Clinic', '167A Nam Ky Khoi Nghia Str, HCMC (028)38240777 I frontdesk_ hcmc@rafflesmedical com', '51 Xuan Dieu Str, Hanoi (024)36762222 hanoi_reception@rafflesmedical com', '01LeNgocHanStr.,VungTauI(0254)3858776frontdesk_vungtau@rafflesmedical.com']\n",
      "['Raffles// CN CONG TY TNH SUC KHOE TRON DOI TAI TP HA NOI', 'Tel:+842439340666Email:frontdeskhanoi@rafflesmedical.com', 'Phong kham(HAN Clinic: 51 Xuan Dieu, Phuong Quang An, Quan Tay Ho, TP Ha', 'Noi, Viet Nam', 'MST (Tax Code)', '3502306822-002', 'MCH9B02146C', 'HOA DON GIA TRI GIA TANG-(D!CH VU)', 'Ngay (Date): 09-MAR-2019', 'VAT INVOICE', 'Mau so 01GTKT2/001', '0903-2019', 'Lien 2: Khach hang(Customer copy', 'Ky hieu(Serial) AB/19T', 'S6No):0002146', 'Ma benh nhan(Patient Code): B06907', 'Khu vurc(Area): Clinic', '29820', 'MCH9B', 'Ho(Surname)', 'Ten(Name)', 'Gioi tinh Sex):', 'Quoc tich(Nationality F', 'FILIPINO', 'Ngay sinh(DOB):', 'Cong ty(Company):', 'Dia chi(Address):', '72 HANOI LANDMARK, KEANGNAM TOWER', 'Ma Cty(Co Code): N4534', 'MST(Tax Code', 'Thanh toan(Paid by: DB- South Asia Services', 'PHAN KHONG CHIU THUE GTGT (NOT SUBJECT TO V.A.T', 'Kham chura ben', 'Ma bac si', 'Bac si', 'DVT Slg kham Don g', 'So tien', 'Amount)', 'Medical Procedure', '(Dr Code)ll Doctor Name)(Unit)(Otv)(Unit Price', 'DR NAM CHUNG', '3.107,000', '3,107,000', 'I SROI KHAM CHUYEN KHOA/RHEUMATOLOGIST', 'DURING HRS', 'Cong ( Sub totall', '3,107.00', 'PHAN CHIU THUE GTGT (SUBJECT TO VAT)', 'Don gia', 'So tien', 'Thuoc va Vat dung y te', 'mount', '(No)', 'Drugs Disposable', 'Batch(expiry anin(otani Price)I(4', '1,315,900', '1,315,900', 'THuOC VAT DUNG Y TE/PHARMACY SERVICES', 'COng (Sub total', '1,315,900', 'Tien thue GTGT(A T)', '65.795', 'Thue suat GTGT(V.A. T) Rate', 'Tong cong Total):(B)', '1,381695', 'Tong so tien phai thanh toan Total Payable Amount)(A)+(B) VND', '4,488,695', 'Ty', '23,155USD', '193.85', 'Bang chir (n words): Bon trieu, bon', 'tram tam muroi tam nghi, sau tram chin muoi lam dong chan(Four million four hundred eighty eight thousand six hundred ninety five', 'VND)', 'I understand that the invoice contains my personal data, including medical data and I Toi hieu ro rang hoa don bao gom nhimg thong tin ca nhan va thong tin y te cua toi, val', 'Dia', 'consent to the invoice being provided to my employer and to the insurance company toi dong y cung cap hoa don nay cho ngurdi sir dung lao dong va cong ty bao hiem voi', 'muc dich thanh toan', 'for the purpose of settlement.', 'Ben Mua(Ky, ghi ro ho ten)', 'Ben Ban (Ky, dong dau, ghi ro ho ten)', 'Customer(Sign, Full name', 'Prepared by(Sign, Stamp, Full name)', 'Ten TK(Acc Name', 'LIFETIME HEALTH CO. LTD', 'So TK(Bank Acc Ne', 'VND Account: 007.100.1114974 USD Account: 007.1371114988', 'Tai ngan hang(Bank Name)', 'VIETCOMBANK-HO CHI MINH BRANCH', 'Cong Ty cung cap phan mem tu in hoa don CONG TY TNHH SUC KHOE TRON DOT', '09: 23 HAN-CLN-120-PC']\n",
      "['RafflesMedical', 'PRESCRIPTION', 'TOA THUOC', '(Copy to File/ Ban luru ho so)', 'Date', 'Name/ Ho va Ten', 'D.O. B/Ngay sir', 'Patient ID/ Ma Benh Nhan', 'Tel/ Dien thoai', 'Address/ Dia chi', 'Diagnosis/ Chan doan', 'Name, Dosage, Route and Quantity of Medication', 'Refill', 'Ten thuoc, lieu /upong, cach dung va so lurong:', 'RAFFLES MEDICAL CLINIC', 'Signature of Prescribing Doctor/ Chu ky cua bac sy', 'Raffles Medical Viet Nam 51 XUADIEU-HANOI-VIETNAM', 'TEL:(847243676222', 'www raffiesmedical, vn', '167aNamKyKhoiNghiaStrHcmci(028)38240777ifrontdesk_hcmc@raffilesmedical.com', '51 Xuan Dieu Str, Hanoi I(024 )36762222 hanoi reception@raffiesmedical com', '01 Le Ngoc Han Str, Vung Tau I (0254)3858776 I frontdesk vungtau@raffilesmedical com']\n",
      "['PREMIER', 'NEERNATDN', 'HEALTHCARE', 'ontinued', 'SECTION B: TO BE COMPLETED BY ATTENDING PHYSICIAN/ SURGEON', 'Note: If there are mu sis do tos. this Sec:ion is to he completed bv the last amending physician', 'Neme o Patient', 'Passpor ii.', 'palt taih abcess', 'Otner Diegn0515', 'CD CoDe', 'DPG CoTe', 'ac pain', 'Wher di: the nation! first consult vou for this condition', '16 Feb e(g', 'Please specin the approximate date of dis:ove\"y dats of the lness or iniurv', 'How long has the illness/ iniury been existing prior to consulting ou:', 'Nature ot reatment', 'Awgwsusu, dehua wl foren Lugo', 'Date of Treatment rendered', 'Doctors previous consumed bv the patient for the anove condition', 'Name', 'Approximate date', 'Name D', 'Approxim', 'Name o Clinic', 'MATERNITY CLAIMS', 'Piease indicate the estimsted date of deliver and the date of the patients last menstrual perod', 'SIGKATURE OF PHYSICIAN: SURGEON', 'um pr y DAre ag Aad 9019', 'NAME DF PHYSICIAN SURGEON', '小 RE AND A -EESE OF CLINI- H251', 'RAFFLES MEDICAL CLINICi', 'DI XUAN DIEU- HANOI- VIETNAM', 'TEE:(84)2436762222', 'Premier intemational Healthcare Lto: Asia Pa:inc omE', ':tn FR.. na w=t 4 5e21215-1are, 5-wirelgs: Fcet. m:in,-ainuntwan B8ngrc1233', 'AVIVA']\n",
      "['LAWTONASIA', 'Member No', 'Plan', 'Effective', '01JUL2018-30JUN2019', 'PREMIER INTERNATIONAL HEALTHCARE', 'This card is non- transferable and must be presented with the cardholders ID', 'This card must be returned to the insurer upon cessation of membership of this scheme', 'The cardholder shall be deemed, by use of this card. to have given consent and authorized the doctor,', 'hospital,and rray and Laboratory centre to release all the medical information to Canopoius', 'and Allianz worldwide Partners Thailand (AwP) pertaining to the treatment of the card', 'This card cannot be used as a guarantee of payment for in-hospital treatment, home nursing, emergency', 'are not covered under the polic', 'Allianz worldwide Partners Thailand (AwP) is the Administrator for this scheme and the ocia', 'emergency assistance provider', 'This policy is insured by Muang Thai insruance PCL and underwritten by Canopoius', 'assistance please', '4-hour help line +66 2 305 4439Allianz@', 'PREMIER INTERNATIONAL HEALTHCARE', 'C', 'C', 'A', 'BA']\n",
      "['DC:10749', 'AVIVA', 'PREMIER', 'NTERNATION', 'HEALTHCARE', 'MEDICAL CLAIM FORM', 'NotE: 0 The insured member is required to complete Section A and a:tac al the original medical bills when filling the claim', 'li) The attending physician/ surgeon is reauired to compiete Section 3.', 'min Use a new Claim Form for each separate claim or iliness.', 'SECTION A: TO BE COMPLETED BY INSURED MEMBER', 'kNm4080980=H502335', 'Name of insurer Membet', 'M O', 'Passport No', 'Marital status', 'if other than the insured member', \"Name o' Patient\", 'Passpor No', 'Marital Status', 'Occupation', 'Date of birth', 'Present Home Address', 'Postcode/ Zip code', 'mail Aodress', 'work Contact (TeL)', 'Home Contact (Tel)', 'be nature of injury', 'Date First Treated', 'm卫 CEVE', 'Date First Treated', '182进', 'Date First Treated', 'Date First Treated', 'B￥: HCM City', 'Date First Treated', '.SETTLEMENT OPTION', 'Please tick your preferred settlement mode, Kindly note that the payee refers to the Policyholder or Insured Member only.', 'n Bank Cheque THB)', 'U Demand Draft. Please furnish name of pavee', 'Currenty Tvpe', 'X Telegraphic Fund Transfer. (Only avaliable if payment is more than US5200)', 'Please furnish bank details', 'Name of Account Holder', 'LIFETIME HEALTH CO LTD', 'Beneficiary Bank Account No', '0710014974VND上0071371114988LSD', 'SWIF Address/ Clearing Code (if applicable', 'BFTVVNVXO07', 'Currency iype', 'C', 'Name of Beneficiary sank BrancnVIETCOMBANK-HO CH MINH BRANCH-', 'Aodress of Bank branch', '\\\\BB TOWERS Cons Truong Me Lanh. Ben Nghe Ward. Distnct I Ho Chi Mmh City. Viet Nam', '如出小(84)24367622', 'Nole: If preferred currency tvpe is nol specified, claim wi l be paid in policy currenty', '● DECLARAMION& AUTHORISA', 'I hereby authorise any hospital, physician, person or organisation to disclose all information with respect to any', 'history, consultat or s, prescript ions or treatment, and copies of all hosp tal or medital records, A photos at copy o', 'be corsiceec as neve', 'and valid us the originai', 'I cerif h at the above statements ana answers are rue and compiete to the best of my knowledge and belief.', 'SIGNATURE OF INSURED MEMBER', 'SIGNATURE OF PATIENT']\n",
      "1091869.pdf\n",
      "1093310.pdf\n",
      "1072649\n"
     ]
    },
    {
     "ename": "KeyError",
     "evalue": "'words_result'",
     "output_type": "error",
     "traceback": [
      "\u001b[0;31m---------------------------------------------------------------------------\u001b[0m",
      "\u001b[0;31mKeyError\u001b[0m                                  Traceback (most recent call last)",
      "\u001b[0;32m<ipython-input-31-8f4548bd9591>\u001b[0m in \u001b[0;36m<module>\u001b[0;34m\u001b[0m\n\u001b[1;32m      8\u001b[0m         \u001b[0;34m\"\"\" 调用通用文字识别, 图片参数为本地图片 \"\"\"\u001b[0m\u001b[0;34m\u001b[0m\u001b[0;34m\u001b[0m\u001b[0m\n\u001b[1;32m      9\u001b[0m         \u001b[0mmessage\u001b[0m \u001b[0;34m=\u001b[0m \u001b[0mclient\u001b[0m\u001b[0;34m.\u001b[0m\u001b[0mbasicGeneral\u001b[0m\u001b[0;34m(\u001b[0m\u001b[0mimage\u001b[0m\u001b[0;34m)\u001b[0m\u001b[0;34m\u001b[0m\u001b[0;34m\u001b[0m\u001b[0m\n\u001b[0;32m---> 10\u001b[0;31m         \u001b[0minfo\u001b[0m \u001b[0;34m=\u001b[0m \u001b[0;34m[\u001b[0m\u001b[0mi\u001b[0m\u001b[0;34m[\u001b[0m\u001b[0;34m'words'\u001b[0m\u001b[0;34m]\u001b[0m \u001b[0;32mfor\u001b[0m \u001b[0mi\u001b[0m \u001b[0;32min\u001b[0m \u001b[0mmessage\u001b[0m\u001b[0;34m[\u001b[0m\u001b[0;34m'words_result'\u001b[0m\u001b[0;34m]\u001b[0m\u001b[0;34m]\u001b[0m\u001b[0;34m\u001b[0m\u001b[0;34m\u001b[0m\u001b[0m\n\u001b[0m\u001b[1;32m     11\u001b[0m         \u001b[0mprint\u001b[0m\u001b[0;34m(\u001b[0m\u001b[0minfo\u001b[0m\u001b[0;34m)\u001b[0m\u001b[0;34m\u001b[0m\u001b[0;34m\u001b[0m\u001b[0m\n\u001b[1;32m     12\u001b[0m         \u001b[0;32mwith\u001b[0m \u001b[0mopen\u001b[0m\u001b[0;34m(\u001b[0m\u001b[0mimg_fp\u001b[0m\u001b[0;34m+\u001b[0m\u001b[0;34m'.txt'\u001b[0m\u001b[0;34m,\u001b[0m \u001b[0;34m'w'\u001b[0m\u001b[0;34m,\u001b[0m \u001b[0mencoding\u001b[0m\u001b[0;34m=\u001b[0m\u001b[0;34m'utf8'\u001b[0m\u001b[0;34m)\u001b[0m \u001b[0;32mas\u001b[0m \u001b[0mf1\u001b[0m\u001b[0;34m:\u001b[0m\u001b[0;34m\u001b[0m\u001b[0;34m\u001b[0m\u001b[0m\n",
      "\u001b[0;31mKeyError\u001b[0m: 'words_result'"
     ]
    }
   ],
   "source": [
    "for path in os.listdir(pdf_dir):\n",
    "    print(path)\n",
    "    if path.split('.')[0] != '1072649': continue\n",
    "    img_dir = os.path.join(pdf_dir, path.split('.')[0])\n",
    "    for p in os.listdir(img_dir):\n",
    "        img_fp = os.path.join(img_dir, p)\n",
    "        image = get_file_content(img_fp)\n",
    "        \"\"\" 调用通用文字识别, 图片参数为本地图片 \"\"\"\n",
    "        message = client.basicGeneral(image)\n",
    "        info = [i['words'] for i in message['words_result']]\n",
    "        print(info)\n",
    "        with open(img_fp+'.txt', 'w', encoding='utf8') as f1:\n",
    "            f1.write('\\n'.join(info))\n",
    "#     break"
   ]
  },
  {
   "cell_type": "markdown",
   "metadata": {},
   "source": [
    "# 手把手教学：提取PDF各种表格文本数据（附代码）\n",
    "pdfplumber"
   ]
  },
  {
   "cell_type": "markdown",
   "metadata": {},
   "source": [
    "https://mp.weixin.qq.com/s/mcHYTjIDnVBA58-1h8BLdA"
   ]
  },
  {
   "cell_type": "code",
   "execution_count": 2,
   "metadata": {},
   "outputs": [
    {
     "name": "stdout",
     "output_type": "stream",
     "text": [
      "pdfminer.six==20181108\r\n",
      "pdfplumber==0.5.13\r\n"
     ]
    }
   ],
   "source": [
    "# !pip install pdfplumber\n",
    "!pip freeze | grep pdf"
   ]
  },
  {
   "cell_type": "code",
   "execution_count": 1,
   "metadata": {},
   "outputs": [],
   "source": [
    "import pdfplumber"
   ]
  },
  {
   "cell_type": "code",
   "execution_count": 2,
   "metadata": {},
   "outputs": [],
   "source": [
    "# pdf = pdfplumber.open(\"sw.pdf\")\n",
    "pdf = pdfplumber.open(\"840519.pdf\")"
   ]
  },
  {
   "cell_type": "code",
   "execution_count": 3,
   "metadata": {},
   "outputs": [],
   "source": [
    "p0 = pdf.pages[0]\n"
   ]
  },
  {
   "cell_type": "code",
   "execution_count": 6,
   "metadata": {},
   "outputs": [
    {
     "data": {
      "text/plain": [
       "[{'x0': Decimal('0'),\n",
       "  'y0': Decimal('0'),\n",
       "  'x1': Decimal('603.360'),\n",
       "  'y1': Decimal('853.920'),\n",
       "  'width': Decimal('603.360'),\n",
       "  'height': Decimal('853.920'),\n",
       "  'name': 'FXX1',\n",
       "  'srcsize': (Decimal('1256'), Decimal('1779')),\n",
       "  'bits': 8,\n",
       "  'object_type': 'image',\n",
       "  'page_number': 1,\n",
       "  'top': Decimal('0.000'),\n",
       "  'bottom': Decimal('853.920'),\n",
       "  'doctop': Decimal('0.000')}]"
      ]
     },
     "execution_count": 6,
     "metadata": {},
     "output_type": "execute_result"
    }
   ],
   "source": [
    "p0.images"
   ]
  },
  {
   "cell_type": "code",
   "execution_count": 7,
   "metadata": {},
   "outputs": [
    {
     "data": {
      "text/plain": [
       "dict"
      ]
     },
     "execution_count": 7,
     "metadata": {},
     "output_type": "execute_result"
    }
   ],
   "source": [
    "type(p0.images[0])"
   ]
  },
  {
   "cell_type": "code",
   "execution_count": 5,
   "metadata": {},
   "outputs": [
    {
     "ename": "WandRuntimeError",
     "evalue": "MagickReadImage returns false, but did not raise ImageMagick  exception. This can occurs when a delegate is missing, or returns EXIT_SUCCESS without generating a raster.",
     "output_type": "error",
     "traceback": [
      "\u001b[0;31m---------------------------------------------------------------------------\u001b[0m",
      "\u001b[0;31mWandRuntimeError\u001b[0m                          Traceback (most recent call last)",
      "\u001b[0;32m<ipython-input-5-29d00bf29fc0>\u001b[0m in \u001b[0;36m<module>\u001b[0;34m\u001b[0m\n\u001b[0;32m----> 1\u001b[0;31m \u001b[0mim\u001b[0m \u001b[0;34m=\u001b[0m \u001b[0mp0\u001b[0m\u001b[0;34m.\u001b[0m\u001b[0mto_image\u001b[0m\u001b[0;34m(\u001b[0m\u001b[0;34m)\u001b[0m\u001b[0;34m\u001b[0m\u001b[0;34m\u001b[0m\u001b[0m\n\u001b[0m\u001b[1;32m      2\u001b[0m \u001b[0;31m# im\u001b[0m\u001b[0;34m\u001b[0m\u001b[0;34m\u001b[0m\u001b[0;34m\u001b[0m\u001b[0m\n",
      "\u001b[0;32m~/anaconda3/lib/python3.7/site-packages/pdfplumber/page.py\u001b[0m in \u001b[0;36mto_image\u001b[0;34m(self, **conversion_kwargs)\u001b[0m\n\u001b[1;32m    257\u001b[0m         \u001b[0;32mif\u001b[0m \u001b[0;34m\"resolution\"\u001b[0m \u001b[0;32mnot\u001b[0m \u001b[0;32min\u001b[0m \u001b[0mconversion_kwargs\u001b[0m\u001b[0;34m:\u001b[0m\u001b[0;34m\u001b[0m\u001b[0;34m\u001b[0m\u001b[0m\n\u001b[1;32m    258\u001b[0m             \u001b[0mkwargs\u001b[0m\u001b[0;34m[\u001b[0m\u001b[0;34m\"resolution\"\u001b[0m\u001b[0;34m]\u001b[0m \u001b[0;34m=\u001b[0m \u001b[0mDEFAULT_RESOLUTION\u001b[0m\u001b[0;34m\u001b[0m\u001b[0;34m\u001b[0m\u001b[0m\n\u001b[0;32m--> 259\u001b[0;31m         \u001b[0;32mreturn\u001b[0m \u001b[0mPageImage\u001b[0m\u001b[0;34m(\u001b[0m\u001b[0mself\u001b[0m\u001b[0;34m,\u001b[0m \u001b[0;34m**\u001b[0m\u001b[0mkwargs\u001b[0m\u001b[0;34m)\u001b[0m\u001b[0;34m\u001b[0m\u001b[0;34m\u001b[0m\u001b[0m\n\u001b[0m\u001b[1;32m    260\u001b[0m \u001b[0;34m\u001b[0m\u001b[0m\n\u001b[1;32m    261\u001b[0m \u001b[0;32mclass\u001b[0m \u001b[0mDerivedPage\u001b[0m\u001b[0;34m(\u001b[0m\u001b[0mPage\u001b[0m\u001b[0;34m)\u001b[0m\u001b[0;34m:\u001b[0m\u001b[0;34m\u001b[0m\u001b[0;34m\u001b[0m\u001b[0m\n",
      "\u001b[0;32m~/anaconda3/lib/python3.7/site-packages/pdfplumber/display.py\u001b[0m in \u001b[0;36m__init__\u001b[0;34m(self, page, original, resolution)\u001b[0m\n\u001b[1;32m     42\u001b[0m                 \u001b[0mpage\u001b[0m\u001b[0;34m.\u001b[0m\u001b[0mpdf\u001b[0m\u001b[0;34m.\u001b[0m\u001b[0mstream\u001b[0m\u001b[0;34m.\u001b[0m\u001b[0mname\u001b[0m\u001b[0;34m,\u001b[0m\u001b[0;34m\u001b[0m\u001b[0;34m\u001b[0m\u001b[0m\n\u001b[1;32m     43\u001b[0m                 \u001b[0mpage\u001b[0m\u001b[0;34m.\u001b[0m\u001b[0mpage_number\u001b[0m \u001b[0;34m-\u001b[0m \u001b[0;36m1\u001b[0m\u001b[0;34m,\u001b[0m\u001b[0;34m\u001b[0m\u001b[0;34m\u001b[0m\u001b[0m\n\u001b[0;32m---> 44\u001b[0;31m                 \u001b[0mresolution\u001b[0m\u001b[0;34m\u001b[0m\u001b[0;34m\u001b[0m\u001b[0m\n\u001b[0m\u001b[1;32m     45\u001b[0m             )\n\u001b[1;32m     46\u001b[0m         \u001b[0;32melse\u001b[0m\u001b[0;34m:\u001b[0m\u001b[0;34m\u001b[0m\u001b[0;34m\u001b[0m\u001b[0m\n",
      "\u001b[0;32m~/anaconda3/lib/python3.7/site-packages/pdfplumber/display.py\u001b[0m in \u001b[0;36mget_page_image\u001b[0;34m(pdf_path, page_no, resolution)\u001b[0m\n\u001b[1;32m     23\u001b[0m     \"\"\"\n\u001b[1;32m     24\u001b[0m     \u001b[0mpage_path\u001b[0m \u001b[0;34m=\u001b[0m \u001b[0;34m\"{0}[{1}]\"\u001b[0m\u001b[0;34m.\u001b[0m\u001b[0mformat\u001b[0m\u001b[0;34m(\u001b[0m\u001b[0mpdf_path\u001b[0m\u001b[0;34m,\u001b[0m \u001b[0mpage_no\u001b[0m\u001b[0;34m)\u001b[0m\u001b[0;34m\u001b[0m\u001b[0;34m\u001b[0m\u001b[0m\n\u001b[0;32m---> 25\u001b[0;31m     \u001b[0;32mwith\u001b[0m \u001b[0mwand\u001b[0m\u001b[0;34m.\u001b[0m\u001b[0mimage\u001b[0m\u001b[0;34m.\u001b[0m\u001b[0mImage\u001b[0m\u001b[0;34m(\u001b[0m\u001b[0mfilename\u001b[0m\u001b[0;34m=\u001b[0m\u001b[0mpage_path\u001b[0m\u001b[0;34m,\u001b[0m \u001b[0mresolution\u001b[0m\u001b[0;34m=\u001b[0m\u001b[0mresolution\u001b[0m\u001b[0;34m)\u001b[0m \u001b[0;32mas\u001b[0m \u001b[0mimg\u001b[0m\u001b[0;34m:\u001b[0m\u001b[0;34m\u001b[0m\u001b[0;34m\u001b[0m\u001b[0m\n\u001b[0m\u001b[1;32m     26\u001b[0m         \u001b[0;32mif\u001b[0m \u001b[0mimg\u001b[0m\u001b[0;34m.\u001b[0m\u001b[0malpha_channel\u001b[0m\u001b[0;34m:\u001b[0m\u001b[0;34m\u001b[0m\u001b[0;34m\u001b[0m\u001b[0m\n\u001b[1;32m     27\u001b[0m             \u001b[0mimg\u001b[0m\u001b[0;34m.\u001b[0m\u001b[0mbackground_color\u001b[0m \u001b[0;34m=\u001b[0m \u001b[0mwand\u001b[0m\u001b[0;34m.\u001b[0m\u001b[0mimage\u001b[0m\u001b[0;34m.\u001b[0m\u001b[0mColor\u001b[0m\u001b[0;34m(\u001b[0m\u001b[0;34m'white'\u001b[0m\u001b[0;34m)\u001b[0m\u001b[0;34m\u001b[0m\u001b[0;34m\u001b[0m\u001b[0m\n",
      "\u001b[0;32m~/anaconda3/lib/python3.7/site-packages/wand/image.py\u001b[0m in \u001b[0;36m__init__\u001b[0;34m(self, image, blob, file, filename, format, width, height, depth, background, resolution, pseudo, colorspace, units)\u001b[0m\n\u001b[1;32m   8210\u001b[0m                 \u001b[0;32melif\u001b[0m \u001b[0mfilename\u001b[0m \u001b[0;32mis\u001b[0m \u001b[0;32mnot\u001b[0m \u001b[0;32mNone\u001b[0m\u001b[0;34m:\u001b[0m\u001b[0;34m\u001b[0m\u001b[0;34m\u001b[0m\u001b[0m\n\u001b[1;32m   8211\u001b[0m                     self.read(filename=filename, resolution=resolution,\n\u001b[0;32m-> 8212\u001b[0;31m                               units=units)\n\u001b[0m\u001b[1;32m   8213\u001b[0m                 \u001b[0;31m# clear the wand format, otherwise any subsequent call to\u001b[0m\u001b[0;34m\u001b[0m\u001b[0;34m\u001b[0m\u001b[0;34m\u001b[0m\u001b[0m\n\u001b[1;32m   8214\u001b[0m                 \u001b[0;31m# MagickGetImageBlob will silently change the image to this\u001b[0m\u001b[0;34m\u001b[0m\u001b[0;34m\u001b[0m\u001b[0;34m\u001b[0m\u001b[0m\n",
      "\u001b[0;32m~/anaconda3/lib/python3.7/site-packages/wand/image.py\u001b[0m in \u001b[0;36mread\u001b[0;34m(self, file, filename, blob, resolution, units)\u001b[0m\n\u001b[1;32m   8689\u001b[0m                    \u001b[0;34m'is missing, or returns EXIT_SUCCESS without generating a '\u001b[0m\u001b[0;34m\u001b[0m\u001b[0;34m\u001b[0m\u001b[0m\n\u001b[1;32m   8690\u001b[0m                    'raster.')\n\u001b[0;32m-> 8691\u001b[0;31m             \u001b[0;32mraise\u001b[0m \u001b[0mWandRuntimeError\u001b[0m\u001b[0;34m(\u001b[0m\u001b[0mmsg\u001b[0m\u001b[0;34m)\u001b[0m\u001b[0;34m\u001b[0m\u001b[0;34m\u001b[0m\u001b[0m\n\u001b[0m\u001b[1;32m   8692\u001b[0m         \u001b[0;32melse\u001b[0m\u001b[0;34m:\u001b[0m\u001b[0;34m\u001b[0m\u001b[0;34m\u001b[0m\u001b[0m\n\u001b[1;32m   8693\u001b[0m             \u001b[0;32mif\u001b[0m \u001b[0munits\u001b[0m \u001b[0;32mis\u001b[0m \u001b[0;32mnot\u001b[0m \u001b[0;32mNone\u001b[0m\u001b[0;34m:\u001b[0m\u001b[0;34m\u001b[0m\u001b[0;34m\u001b[0m\u001b[0m\n",
      "\u001b[0;31mWandRuntimeError\u001b[0m: MagickReadImage returns false, but did not raise ImageMagick  exception. This can occurs when a delegate is missing, or returns EXIT_SUCCESS without generating a raster."
     ]
    }
   ],
   "source": [
    "im = p0.to_image()\n",
    "# im"
   ]
  },
  {
   "cell_type": "code",
   "execution_count": 6,
   "metadata": {},
   "outputs": [
    {
     "data": {
      "text/plain": [
       "[['行业名称', '股票代码', '股票名称', '起始日期', '结束日期'],\n",
       " ['采掘', '000552', '靖远煤电', '2008/6/2 0:00', ''],\n",
       " ['采掘', '000571', '*ST大洲', '2011/10/10 0:00', '']]"
      ]
     },
     "execution_count": 6,
     "metadata": {},
     "output_type": "execute_result"
    }
   ],
   "source": [
    "table = p0.extract_table()\n",
    "table[:3]"
   ]
  },
  {
   "cell_type": "code",
   "execution_count": 7,
   "metadata": {},
   "outputs": [],
   "source": [
    "import pandas as pd\n",
    "df = pd.DataFrame(table[1:], columns=table[0])"
   ]
  },
  {
   "cell_type": "code",
   "execution_count": 8,
   "metadata": {},
   "outputs": [
    {
     "data": {
      "text/html": [
       "<div>\n",
       "<style scoped>\n",
       "    .dataframe tbody tr th:only-of-type {\n",
       "        vertical-align: middle;\n",
       "    }\n",
       "\n",
       "    .dataframe tbody tr th {\n",
       "        vertical-align: top;\n",
       "    }\n",
       "\n",
       "    .dataframe thead th {\n",
       "        text-align: right;\n",
       "    }\n",
       "</style>\n",
       "<table border=\"1\" class=\"dataframe\">\n",
       "  <thead>\n",
       "    <tr style=\"text-align: right;\">\n",
       "      <th></th>\n",
       "      <th>行业名称</th>\n",
       "      <th>股票代码</th>\n",
       "      <th>股票名称</th>\n",
       "      <th>起始日期</th>\n",
       "      <th>结束日期</th>\n",
       "    </tr>\n",
       "  </thead>\n",
       "  <tbody>\n",
       "    <tr>\n",
       "      <th>0</th>\n",
       "      <td>采掘</td>\n",
       "      <td>000552</td>\n",
       "      <td>靖远煤电</td>\n",
       "      <td>2008/6/2 0:00</td>\n",
       "      <td></td>\n",
       "    </tr>\n",
       "    <tr>\n",
       "      <th>1</th>\n",
       "      <td>采掘</td>\n",
       "      <td>000571</td>\n",
       "      <td>*ST大洲</td>\n",
       "      <td>2011/10/10 0:00</td>\n",
       "      <td></td>\n",
       "    </tr>\n",
       "    <tr>\n",
       "      <th>2</th>\n",
       "      <td>采掘</td>\n",
       "      <td>000629</td>\n",
       "      <td>攀钢钒钛</td>\n",
       "      <td>2015/10/31 0:00</td>\n",
       "      <td></td>\n",
       "    </tr>\n",
       "    <tr>\n",
       "      <th>3</th>\n",
       "      <td>采掘</td>\n",
       "      <td>000655</td>\n",
       "      <td>金岭矿业</td>\n",
       "      <td>2015/10/31 0:00</td>\n",
       "      <td></td>\n",
       "    </tr>\n",
       "    <tr>\n",
       "      <th>4</th>\n",
       "      <td>采掘</td>\n",
       "      <td>000723</td>\n",
       "      <td>美锦能源</td>\n",
       "      <td>2008/6/2 0:00</td>\n",
       "      <td></td>\n",
       "    </tr>\n",
       "  </tbody>\n",
       "</table>\n",
       "</div>"
      ],
      "text/plain": [
       "  行业名称    股票代码   股票名称             起始日期 结束日期\n",
       "0   采掘  000552   靖远煤电    2008/6/2 0:00     \n",
       "1   采掘  000571  *ST大洲  2011/10/10 0:00     \n",
       "2   采掘  000629   攀钢钒钛  2015/10/31 0:00     \n",
       "3   采掘  000655   金岭矿业  2015/10/31 0:00     \n",
       "4   采掘  000723   美锦能源    2008/6/2 0:00     "
      ]
     },
     "execution_count": 8,
     "metadata": {},
     "output_type": "execute_result"
    }
   ],
   "source": [
    "df.head()"
   ]
  },
  {
   "cell_type": "code",
   "execution_count": 9,
   "metadata": {},
   "outputs": [
    {
     "data": {
      "text/plain": [
       "(42, 5)"
      ]
     },
     "execution_count": 9,
     "metadata": {},
     "output_type": "execute_result"
    }
   ],
   "source": [
    "df.shape"
   ]
  },
  {
   "cell_type": "code",
   "execution_count": 10,
   "metadata": {},
   "outputs": [
    {
     "data": {
      "text/html": [
       "<div>\n",
       "<style scoped>\n",
       "    .dataframe tbody tr th:only-of-type {\n",
       "        vertical-align: middle;\n",
       "    }\n",
       "\n",
       "    .dataframe tbody tr th {\n",
       "        vertical-align: top;\n",
       "    }\n",
       "\n",
       "    .dataframe thead th {\n",
       "        text-align: right;\n",
       "    }\n",
       "</style>\n",
       "<table border=\"1\" class=\"dataframe\">\n",
       "  <thead>\n",
       "    <tr style=\"text-align: right;\">\n",
       "      <th></th>\n",
       "      <th>行业名称</th>\n",
       "      <th>股票代码</th>\n",
       "      <th>股票名称</th>\n",
       "      <th>起始日期</th>\n",
       "      <th>结束日期</th>\n",
       "    </tr>\n",
       "  </thead>\n",
       "  <tbody>\n",
       "    <tr>\n",
       "      <th>37</th>\n",
       "      <td>采掘</td>\n",
       "      <td>600740</td>\n",
       "      <td>山西焦化</td>\n",
       "      <td>2008/6/2 0:00</td>\n",
       "      <td></td>\n",
       "    </tr>\n",
       "    <tr>\n",
       "      <th>38</th>\n",
       "      <td>采掘</td>\n",
       "      <td>600758</td>\n",
       "      <td>红阳能源</td>\n",
       "      <td>2017/6/29 0:00</td>\n",
       "      <td></td>\n",
       "    </tr>\n",
       "    <tr>\n",
       "      <th>39</th>\n",
       "      <td>采掘</td>\n",
       "      <td>600759</td>\n",
       "      <td>洲际油气</td>\n",
       "      <td>2015/8/14 0:00</td>\n",
       "      <td></td>\n",
       "    </tr>\n",
       "    <tr>\n",
       "      <th>40</th>\n",
       "      <td>采掘</td>\n",
       "      <td>600777</td>\n",
       "      <td>新潮能源</td>\n",
       "      <td>2017/6/29 0:00</td>\n",
       "      <td></td>\n",
       "    </tr>\n",
       "    <tr>\n",
       "      <th>41</th>\n",
       "      <td>采掘</td>\n",
       "      <td>600792</td>\n",
       "      <td>云煤能源</td>\n",
       "      <td>2015/10/16 0:00</td>\n",
       "      <td></td>\n",
       "    </tr>\n",
       "  </tbody>\n",
       "</table>\n",
       "</div>"
      ],
      "text/plain": [
       "   行业名称    股票代码  股票名称             起始日期 结束日期\n",
       "37   采掘  600740  山西焦化    2008/6/2 0:00     \n",
       "38   采掘  600758  红阳能源   2017/6/29 0:00     \n",
       "39   采掘  600759  洲际油气   2015/8/14 0:00     \n",
       "40   采掘  600777  新潮能源   2017/6/29 0:00     \n",
       "41   采掘  600792  云煤能源  2015/10/16 0:00     "
      ]
     },
     "execution_count": 10,
     "metadata": {},
     "output_type": "execute_result"
    }
   ],
   "source": [
    "df.tail()"
   ]
  },
  {
   "cell_type": "code",
   "execution_count": null,
   "metadata": {},
   "outputs": [],
   "source": []
  }
 ],
 "metadata": {
  "kernelspec": {
   "display_name": "Python 3",
   "language": "python",
   "name": "python3"
  },
  "language_info": {
   "codemirror_mode": {
    "name": "ipython",
    "version": 3
   },
   "file_extension": ".py",
   "mimetype": "text/x-python",
   "name": "python",
   "nbconvert_exporter": "python",
   "pygments_lexer": "ipython3",
   "version": "3.7.3"
  },
  "toc": {
   "base_numbering": 1,
   "nav_menu": {},
   "number_sections": true,
   "sideBar": true,
   "skip_h1_title": false,
   "title_cell": "Table of Contents",
   "title_sidebar": "Contents",
   "toc_cell": false,
   "toc_position": {},
   "toc_section_display": true,
   "toc_window_display": true
  }
 },
 "nbformat": 4,
 "nbformat_minor": 2
}
