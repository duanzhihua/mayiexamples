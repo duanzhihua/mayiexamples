{
 "cells": [
  {
   "cell_type": "markdown",
   "metadata": {},
   "source": [
    "默认命令的环境是centos7"
   ]
  },
  {
   "cell_type": "markdown",
   "metadata": {},
   "source": [
    "# 操作系统类命令"
   ]
  },
  {
   "cell_type": "markdown",
   "metadata": {},
   "source": [
    "## 查看OS版本\n",
    "cat /etc/redhat-release\n",
    "\n",
    "CentOS Linux release 7.6.1810 (Core)"
   ]
  },
  {
   "cell_type": "markdown",
   "metadata": {},
   "source": [
    "## 查看内存使用情况"
   ]
  },
  {
   "cell_type": "code",
   "execution_count": 1,
   "metadata": {},
   "outputs": [
    {
     "name": "stdout",
     "output_type": "stream",
     "text": [
      "/bin/sh: free: command not found\r\n"
     ]
    }
   ],
   "source": [
    "!free -mh"
   ]
  },
  {
   "cell_type": "markdown",
   "metadata": {},
   "source": [
    "                  total        used        free      shared  buff/cache   available\n",
    "    Mem:           251G         28G        196G        4.0G         25G        217G\n",
    "    Swap:          4.0G          0B        4.0G\n",
    "    \n",
    "Mem：物理内存\n",
    "\n",
    "Swap: 虚拟内存，交换分区，一般最大设置为物理内存的一半"
   ]
  },
  {
   "cell_type": "markdown",
   "metadata": {},
   "source": [
    "## 查看文件系统分区大小"
   ]
  },
  {
   "cell_type": "code",
   "execution_count": 2,
   "metadata": {},
   "outputs": [
    {
     "name": "stdout",
     "output_type": "stream",
     "text": [
      "Filesystem      Size   Used  Avail Capacity iused               ifree %iused  Mounted on\r\n",
      "/dev/disk1s1   233Gi  216Gi  5.9Gi    98% 1606454 9223372036853169353    0%   /\r\n",
      "devfs          193Ki  193Ki    0Bi   100%     666                   0  100%   /dev\r\n",
      "/dev/disk1s4   233Gi   11Gi  5.9Gi    66%      11 9223372036854775796    0%   /private/var/vm\r\n",
      "map -hosts       0Bi    0Bi    0Bi   100%       0                   0  100%   /net\r\n",
      "map auto_home    0Bi    0Bi    0Bi   100%       0                   0  100%   /home\r\n"
     ]
    }
   ],
   "source": [
    "!df -h"
   ]
  },
  {
   "cell_type": "markdown",
   "metadata": {},
   "source": [
    "    文件系统                 容量  已用  可用 已用% 挂载点\n",
    "    /dev/mapper/centos-root  3.3T  1.1T  2.2T   32% /\n",
    "    devtmpfs                 126G     0  126G    0% /dev\n",
    "    tmpfs                    126G     0  126G    0% /dev/shm\n",
    "    tmpfs                    126G  4.0G  122G    4% /run\n",
    "    tmpfs                    126G     0  126G    0% /sys/fs/cgroup\n",
    "    /dev/mapper/centos-home   30G  699M   30G    3% /home\n",
    "    /dev/sda2               1014M  232M  783M   23% /boot\n",
    "    tmpfs                     26G     0   26G    0% /run/user/1003\n",
    "    tmpfs                     26G   12K   26G    1% /run/user/42\n",
    "    tmpfs                     26G     0   26G    0% /run/user/1010\n",
    "    tmpfs                     26G     0   26G    0% /run/user/0\n",
    "    "
   ]
  },
  {
   "cell_type": "markdown",
   "metadata": {},
   "source": [
    "### 查看某个目录的挂载点"
   ]
  },
  {
   "cell_type": "code",
   "execution_count": 5,
   "metadata": {},
   "outputs": [
    {
     "name": "stdout",
     "output_type": "stream",
     "text": [
      "Filesystem    512-blocks      Used Available Capacity iused               ifree %iused  Mounted on\r\n",
      "/dev/disk1s1   489620264 452943016  12279184    98% 1606458 9223372036853169349    0%   /\r\n",
      "df: -h: No such file or directory\r\n"
     ]
    }
   ],
   "source": [
    "!df /Users -h"
   ]
  },
  {
   "cell_type": "markdown",
   "metadata": {},
   "source": [
    "    文件系统                 容量  已用  可用 已用% 挂载点\n",
    "    /dev/mapper/centos-root  3.3T  1.1T  2.2T   32% /"
   ]
  },
  {
   "cell_type": "markdown",
   "metadata": {},
   "source": [
    "# 进程相关命令"
   ]
  },
  {
   "cell_type": "markdown",
   "metadata": {},
   "source": [
    "## netstat"
   ]
  },
  {
   "cell_type": "markdown",
   "metadata": {},
   "source": [
    "### 查看某个端口占用情况"
   ]
  },
  {
   "cell_type": "markdown",
   "metadata": {},
   "source": [
    "    netstat -ntlp | grep 8814\n",
    "    tcp        0      0 0.0.0.0:8814            0.0.0.0:*               LISTEN      8836/python"
   ]
  },
  {
   "cell_type": "markdown",
   "metadata": {},
   "source": [
    "### 查看python相关的进程"
   ]
  },
  {
   "cell_type": "markdown",
   "metadata": {},
   "source": [
    "    netstat -ntlp | grep python\n",
    "    tcp        0      0 0.0.0.0:8814            0.0.0.0:*               LISTEN      8836/python\n",
    "    tcp        0      0 0.0.0.0:8670            0.0.0.0:*               LISTEN      18314/python"
   ]
  },
  {
   "cell_type": "code",
   "execution_count": null,
   "metadata": {},
   "outputs": [],
   "source": []
  }
 ],
 "metadata": {
  "kernelspec": {
   "display_name": "Python 3",
   "language": "python",
   "name": "python3"
  },
  "language_info": {
   "codemirror_mode": {
    "name": "ipython",
    "version": 3
   },
   "file_extension": ".py",
   "mimetype": "text/x-python",
   "name": "python",
   "nbconvert_exporter": "python",
   "pygments_lexer": "ipython3",
   "version": "3.7.3"
  },
  "toc": {
   "base_numbering": 1,
   "nav_menu": {},
   "number_sections": true,
   "sideBar": true,
   "skip_h1_title": false,
   "title_cell": "Table of Contents",
   "title_sidebar": "Contents",
   "toc_cell": false,
   "toc_position": {},
   "toc_section_display": true,
   "toc_window_display": true
  }
 },
 "nbformat": 4,
 "nbformat_minor": 2
}
