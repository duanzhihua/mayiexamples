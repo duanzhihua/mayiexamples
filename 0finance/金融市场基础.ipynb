{
 "cells": [
  {
   "cell_type": "markdown",
   "metadata": {},
   "source": [
    "# 第三节课书面作业\n",
    "\n",
    "## 1. 一5年期的债券，面值1000元，每年支付利息80元，市场利率为6%，则此债券的市场价值应为多少？\n"
   ]
  },
  {
   "cell_type": "code",
   "execution_count": 2,
   "metadata": {},
   "outputs": [
    {
     "data": {
      "text/plain": [
       "1084.2472757113142"
      ]
     },
     "execution_count": 2,
     "metadata": {},
     "output_type": "execute_result"
    }
   ],
   "source": [
    "r = 0.06\n",
    "80/(1+r)+80/(1+r)**2+80/(1+r)**3+80/(1+r)**4+1080/(1+r)**5"
   ]
  },
  {
   "cell_type": "markdown",
   "metadata": {},
   "source": [
    "## 2. 上题中，如果持有2年半这只债券，此时市场利率变为4%，是否应该出售这只债券？如果是，应该以什么价格出售？\n",
    "\n",
    "利率降低，使得债券PV变大，可以考虑出售。"
   ]
  },
  {
   "cell_type": "code",
   "execution_count": 11,
   "metadata": {},
   "outputs": [
    {
     "data": {
      "text/plain": [
       "1132.7880264531848"
      ]
     },
     "execution_count": 11,
     "metadata": {},
     "output_type": "execute_result"
    }
   ],
   "source": [
    "r = 0.04\n",
    "(80+80/(1+r)**1+1080/(1+r)**2)/(1+r/2)"
   ]
  },
  {
   "cell_type": "markdown",
   "metadata": {},
   "source": [
    "## 3. 对于连续复利的一款投资产品，收益率为7%，问几年投资可以翻倍？\n",
    "$e^{0.07t}=2$"
   ]
  },
  {
   "cell_type": "code",
   "execution_count": 12,
   "metadata": {},
   "outputs": [
    {
     "data": {
      "text/plain": [
       "9.902102579427789"
      ]
     },
     "execution_count": 12,
     "metadata": {},
     "output_type": "execute_result"
    }
   ],
   "source": [
    "from math import log\n",
    "log(2)/0.07"
   ]
  },
  {
   "cell_type": "markdown",
   "metadata": {},
   "source": [
    "10年多一点"
   ]
  },
  {
   "cell_type": "markdown",
   "metadata": {},
   "source": [
    "## 4. 某银行使用5%的年利率（一年付息一次）用于某一个风险模型，如果想要转换成半年付息一次，对应的年利率应为多少？"
   ]
  },
  {
   "cell_type": "markdown",
   "metadata": {},
   "source": [
    "$(1+r/2)^2=1.05$"
   ]
  },
  {
   "cell_type": "code",
   "execution_count": 9,
   "metadata": {},
   "outputs": [
    {
     "data": {
      "text/plain": [
       "0.04939015319191986"
      ]
     },
     "execution_count": 9,
     "metadata": {},
     "output_type": "execute_result"
    }
   ],
   "source": [
    "from math import sqrt\n",
    "r = (sqrt(1.05) - 1)*2\n",
    "r"
   ]
  },
  {
   "cell_type": "markdown",
   "metadata": {},
   "source": [
    "# 第四节课书面作业\n"
   ]
  },
  {
   "cell_type": "markdown",
   "metadata": {},
   "source": [
    "## 1.一年期的贴现债券现价为$960，3个月期无风险年利率为5%， 则3个月期的该债券远期合约交割价格应该为多少？"
   ]
  },
  {
   "cell_type": "code",
   "execution_count": 1,
   "metadata": {},
   "outputs": [],
   "source": [
    "from math import e"
   ]
  },
  {
   "cell_type": "code",
   "execution_count": 3,
   "metadata": {},
   "outputs": [
    {
     "data": {
      "text/plain": [
       "972.0753134790091"
      ]
     },
     "execution_count": 3,
     "metadata": {},
     "output_type": "execute_result"
    }
   ],
   "source": [
    "960*e**(0.05*1/4)"
   ]
  },
  {
   "cell_type": "markdown",
   "metadata": {},
   "source": [
    "## 2.一份标的证券为一年期限的贴现债券、剩余期限为6个月的远期合约多头，交割价格为$960，6个月期的无风险利率为6%（连续复利），该债券现价为940美元，则该远期合约多头价值为多少？\n"
   ]
  },
  {
   "cell_type": "code",
   "execution_count": 7,
   "metadata": {},
   "outputs": [
    {
     "data": {
      "text/plain": [
       "8.372287793432179"
      ]
     },
     "execution_count": 7,
     "metadata": {},
     "output_type": "execute_result"
    }
   ],
   "source": [
    "940-960*e**(-0.06*1/2)"
   ]
  },
  {
   "cell_type": "markdown",
   "metadata": {},
   "source": [
    "## 3.一个交易商购买了一份小麦的期货合约（标的资产是5000布什尔的小麦），购买时小麦的即时价格为$3.05/布什尔，合约初始保证金为$4500，维持保证金要求$3750，当小麦价格为多少时，这个交易商会收到交易所催缴保证金的电话？"
   ]
  },
  {
   "cell_type": "code",
   "execution_count": 8,
   "metadata": {},
   "outputs": [
    {
     "data": {
      "text/plain": [
       "2.9"
      ]
     },
     "execution_count": 8,
     "metadata": {},
     "output_type": "execute_result"
    }
   ],
   "source": [
    "3.05-(4500-3750)/5000"
   ]
  },
  {
   "cell_type": "markdown",
   "metadata": {},
   "source": [
    "# 第五节课书面作业\n",
    "## 1.X企业可以以4.5%进行固定利率借款，Libor+1.5%进行浮动利率借款。Y企业可以以5.5%固定利率借款，Libor+2%浮动利率借款。如果某金融机构设计一款互换产品给X和Y企业，如果X和Y企业分别分别可以节省20个base points的借款成本，则金融机构可以从中赚取多少个base points的利润？\n",
    "\n",
    "X以Libor+1.3%进行浮动利率借款，Y以5.3%固定利率借款，则金融机构可以赚取10个base points的利润"
   ]
  },
  {
   "cell_type": "markdown",
   "metadata": {},
   "source": [
    "## 2.现在有一款利率互换产品，2年期限，半年付息一次，固定利率6%，浮动利率为Libor+50个基点，名义本金是10million，如果在第三个半年付息后Libor利率为5%，在第四个半年，净利息结算为多少？"
   ]
  },
  {
   "cell_type": "code",
   "execution_count": 2,
   "metadata": {},
   "outputs": [
    {
     "data": {
      "text/plain": [
       "25000.0"
      ]
     },
     "execution_count": 2,
     "metadata": {},
     "output_type": "execute_result"
    }
   ],
   "source": [
    "10000000 * (1+0.06/2) - 10000000 * (1+0.055/2)"
   ]
  },
  {
   "cell_type": "code",
   "execution_count": null,
   "metadata": {},
   "outputs": [],
   "source": []
  }
 ],
 "metadata": {
  "kernelspec": {
   "display_name": "Python 3",
   "language": "python",
   "name": "python3"
  },
  "language_info": {
   "codemirror_mode": {
    "name": "ipython",
    "version": 3
   },
   "file_extension": ".py",
   "mimetype": "text/x-python",
   "name": "python",
   "nbconvert_exporter": "python",
   "pygments_lexer": "ipython3",
   "version": "3.7.3"
  },
  "toc": {
   "base_numbering": 1,
   "nav_menu": {},
   "number_sections": true,
   "sideBar": true,
   "skip_h1_title": false,
   "title_cell": "Table of Contents",
   "title_sidebar": "Contents",
   "toc_cell": false,
   "toc_position": {},
   "toc_section_display": true,
   "toc_window_display": true
  }
 },
 "nbformat": 4,
 "nbformat_minor": 2
}
