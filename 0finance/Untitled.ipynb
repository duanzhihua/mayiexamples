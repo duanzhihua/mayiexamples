{
 "cells": [
  {
   "cell_type": "markdown",
   "metadata": {},
   "source": [
    "# lesson12"
   ]
  },
  {
   "cell_type": "code",
   "execution_count": 1,
   "metadata": {},
   "outputs": [
    {
     "data": {
      "text/plain": [
       "8.937180934954009"
      ]
     },
     "execution_count": 1,
     "metadata": {},
     "output_type": "execute_result"
    }
   ],
   "source": [
    "\n",
    "import numpy as np\n",
    "import numpy.random as npr\n",
    "import matplotlib.pyplot as plt\n",
    "\n",
    "###欧式期权###\n",
    "#初始参数\n",
    "S0 = 100.  #标的资产初始价格\n",
    "r = 0.05   #无风险利率\n",
    "sigma = 0.25   #标的资产波动率\n",
    "T = 1.0   #到期日\n",
    "I = 50000  #模拟数量\n",
    "\n",
    "#二项分布模拟\n",
    "def bin_sn(T, I, p = None):\n",
    "    ''' Function to generate random numbers for simulation.\n",
    "    \n",
    "    Parameters\n",
    "    ==========\n",
    "    T : int\n",
    "        周期数\n",
    "    I : int\n",
    "        模拟数量\n",
    "    p : float\n",
    "        风险中性概率\n",
    "\n",
    "    '''\n",
    "    sn = npr.binomial(T,p,size=I)\n",
    "    return sn\n",
    "\n",
    "#二叉树模型下的看涨期权估值   \n",
    "def CRRF(K,u,d,T):\n",
    "    ''' \n",
    "    基于二叉树模型使用蒙特卡洛方法模拟计算欧式看涨期权的价格\n",
    "    \n",
    "    Parameters\n",
    "    ==========\n",
    "    K : float\n",
    "        行权价\n",
    "    u : float\n",
    "        股票上涨比率\n",
    "    d : float\n",
    "        股票下降比率\n",
    "    \n",
    "    Returns\n",
    "    =======\n",
    "    C0 : float\n",
    "        对欧式看涨期权的估值\n",
    "    '''\n",
    "    sn = bin_sn(T, I, p=(r-d)/(u-d)) \n",
    "    #随机生成标的资产的到期价格\n",
    "    ST = S0 *((1+u)**sn)*((1+d)**(T-sn))\n",
    "    # 计算\n",
    "    hT = np.maximum(ST-K, 0)\n",
    "    # calculate MCS estimator\n",
    "    C0 = np.exp(-r * T) * 1 / I * np.sum(hT)\n",
    "    return C0    \n",
    "\n",
    "CRRF(K=105,u=0.2,d=-0.2,T=T) "
   ]
  },
  {
   "cell_type": "code",
   "execution_count": 6,
   "metadata": {},
   "outputs": [
    {
     "data": {
      "text/plain": [
       "10.015993184283078"
      ]
     },
     "execution_count": 6,
     "metadata": {},
     "output_type": "execute_result"
    }
   ],
   "source": [
    "#定义正态分布随机数生成函数\n",
    "def gen_sn(M, I, anti_paths=True, mo_match=True):\n",
    "    ''' Function to generate random numbers for simulation.\n",
    "    \n",
    "    Parameters\n",
    "    ==========\n",
    "    M : int\n",
    "        周期数\n",
    "    I : int\n",
    "        模拟数量\n",
    "    anti_paths: boolean\n",
    "        是否使用对偶变量（若是，则只提取I的一半数目的随机数，另一半取其相反数获得）\n",
    "    mo_math : boolean\n",
    "        是否使用距匹配方法（若是，使用标准化方法校正生成的随机数）\n",
    "    '''\n",
    "    if anti_paths is True:\n",
    "        sn = npr.standard_normal((M + 1, I // 2))\n",
    "        sn = np.concatenate((sn, -sn), axis=1)\n",
    "    else:\n",
    "        sn = npr.standard_normal((M + 1, I))\n",
    "    if mo_match is True:\n",
    "        sn = (sn - sn.mean()) / sn.std()\n",
    "    return sn\n",
    "    \n",
    "#连续时间模型下的欧式看涨期权估值函数    \n",
    "def gbm_mcs_stat(K):\n",
    "    ''' \n",
    "    连续时间模型下使用蒙特卡洛方法模拟计算欧式看涨期权的价格\n",
    "    \n",
    "    Parameters\n",
    "    ==========\n",
    "    K : float\n",
    "        行权价\n",
    "    \n",
    "    Returns\n",
    "    =======\n",
    "    C0 : float\n",
    "        对欧式看涨期权的估值\n",
    "    '''\n",
    "    sn = gen_sn(1, I) #生成随机序列\n",
    "    \n",
    "    ST = S0 * np.exp((r - 0.5 * sigma ** 2) * T \n",
    "                 + sigma * np.sqrt(T) * sn[1])\n",
    "    # 计算\n",
    "    hT = np.maximum(ST - K, 0)\n",
    "    # calculate MCS estimator\n",
    "    C0 = np.exp(-r * T) * 1 / I * np.sum(hT)\n",
    "    return C0\n",
    "\n",
    "gbm_mcs_stat(K=105.)"
   ]
  },
  {
   "cell_type": "code",
   "execution_count": 7,
   "metadata": {},
   "outputs": [
    {
     "data": {
      "text/plain": [
       "7.834579582145581"
      ]
     },
     "execution_count": 7,
     "metadata": {},
     "output_type": "execute_result"
    }
   ],
   "source": [
    "#欧式期权估值\n",
    "M = 50\n",
    "def gbm_mcs_dyna(K, option='call'):\n",
    "    ''' Valuation of European options in Black-Scholes-Merton\n",
    "    by Monte Carlo simulation (of index level paths)\n",
    "    \n",
    "    Parameters\n",
    "    ==========\n",
    "    K : float\n",
    "        行权价\n",
    "    option : string\n",
    "        期权类型(看涨=call,看跌=put)\n",
    "    \n",
    "    Returns\n",
    "    =======\n",
    "    C0 : float\n",
    "        欧式期权的现值估计值\n",
    "    '''\n",
    "    dt = T / M #时间段计算\n",
    "    # 模拟\n",
    "    S = np.zeros((M + 1, I))\n",
    "    S[0] = S0\n",
    "    sn = gen_sn(M, I)\n",
    "    for t in range(1, M + 1):\n",
    "        S[t] = S[t - 1] * np.exp((r - 0.5 * sigma ** 2) * dt \n",
    "                + sigma * np.sqrt(dt) * sn[t])\n",
    "    # 计算收益序列\n",
    "    if option == 'call':\n",
    "        hT = np.maximum(S[-1] - K, 0)\n",
    "    else:\n",
    "        hT = np.maximum(K - S[-1], 0)\n",
    "    # 计算期权估计值\n",
    "    C0 = np.exp(-r * T) * 1 / I * np.sum(hT)\n",
    "    return C0\n",
    "    \n",
    "gbm_mcs_dyna(K=110., option='call')"
   ]
  },
  {
   "cell_type": "code",
   "execution_count": 8,
   "metadata": {},
   "outputs": [
    {
     "data": {
      "text/plain": [
       "12.618577721908236"
      ]
     },
     "execution_count": 8,
     "metadata": {},
     "output_type": "execute_result"
    }
   ],
   "source": [
    "gbm_mcs_dyna(K=110., option='put')"
   ]
  },
  {
   "cell_type": "code",
   "execution_count": 9,
   "metadata": {},
   "outputs": [
    {
     "data": {
      "image/png": "[encoded data removed]",
      "text/plain": [
       "<Figure size 576x432 with 2 Axes>"
      ]
     },
     "metadata": {
      "needs_background": "light"
     },
     "output_type": "display_data"
    },
    {
     "data": {
      "image/png": "[encoded data removed]",
      "text/plain": [
       "<Figure size 576x432 with 2 Axes>"
      ]
     },
     "metadata": {
      "needs_background": "light"
     },
     "output_type": "display_data"
    }
   ],
   "source": [
    "##与BSM估值公式比较\n",
    "\n",
    "#看涨期权估值\n",
    "def bsm_call_value(S0, K, T, r, sigma):\n",
    "    ''' Valuation of European call option in BSM model.\n",
    "    Analytical formula.\n",
    "    \n",
    "    Parameters\n",
    "    ==========\n",
    "    S0 : float\n",
    "        标的资产初始价格\n",
    "    K : float\n",
    "        行权价\n",
    "    T : float\n",
    "        到期日(以年为单位)\n",
    "    r : float\n",
    "        无风险利率\n",
    "    sigma : float\n",
    "        扩散项中的波动因子\n",
    "    \n",
    "    Returns\n",
    "    =======\n",
    "    value : float\n",
    "        欧式看涨期权现值\n",
    "    '''\n",
    "    from math import log, sqrt, exp\n",
    "    from scipy import stats\n",
    "\n",
    "    S0 = float(S0)\n",
    "    d1 = (log(S0 / K) + (r + 0.5 * sigma ** 2) * T) / (sigma * sqrt(T))\n",
    "    d2 = (log(S0 / K) + (r - 0.5 * sigma ** 2) * T) / (sigma * sqrt(T))\n",
    "    value = (S0 * stats.norm.cdf(d1, 0.0, 1.0)\n",
    "            - K * exp(-r * T) * stats.norm.cdf(d2, 0.0, 1.0))\n",
    "      # stats.norm.cdf --> cumulative distribution function\n",
    "      #                    for normal distribution\n",
    "    return value\n",
    "\n",
    "#价格对比\n",
    "stat_res = []\n",
    "dyna_res = []\n",
    "anal_res = []\n",
    "k_list = np.arange(80., 120.1, 5.)\n",
    "np.random.seed(200000)\n",
    "for K in k_list:\n",
    "    stat_res.append(gbm_mcs_stat(K)) \n",
    "    dyna_res.append(gbm_mcs_dyna(K))\n",
    "    anal_res.append(bsm_call_value(S0, K, T, r, sigma))\n",
    "stat_res = np.array(stat_res)\n",
    "dyna_res = np.array(dyna_res)\n",
    "anal_res = np.array(anal_res)\n",
    "\n",
    "fig, (ax1, ax2) = plt.subplots(2, 1, sharex=True, figsize=(8, 6))\n",
    "ax1.plot(k_list, anal_res, 'b', label='analytical')\n",
    "ax1.plot(k_list, stat_res, 'ro', label='static')\n",
    "ax1.set_ylabel('European call option value')\n",
    "ax1.grid(True)\n",
    "ax1.legend(loc=0)\n",
    "ax1.set_ylim(ymin=0)\n",
    "wi = 1.0\n",
    "ax2.bar(k_list - wi / 2, (anal_res - stat_res) / anal_res * 100, wi)\n",
    "ax2.set_xlabel('strike')\n",
    "ax2.set_ylabel('difference in %')\n",
    "ax2.set_xlim(left=75, right=125)\n",
    "ax2.grid(True)\n",
    "\n",
    "fig, (ax1, ax2) = plt.subplots(2, 1, sharex=True, figsize=(8, 6))\n",
    "ax1.plot(k_list, anal_res, 'b', label='analytical')\n",
    "ax1.plot(k_list, dyna_res, 'ro', label='dynamic')\n",
    "ax1.set_ylabel('European call option value')\n",
    "ax1.grid(True)\n",
    "ax1.legend(loc=0)\n",
    "ax1.set_ylim(ymin=0)\n",
    "wi = 1.0\n",
    "ax2.bar(k_list - wi / 2, (anal_res - dyna_res) / anal_res * 100, wi)\n",
    "ax2.set_xlabel('strike')\n",
    "ax2.set_ylabel('difference in %')\n",
    "ax2.set_xlim(left=75, right=125)\n",
    "ax2.grid(True)"
   ]
  },
  {
   "cell_type": "code",
   "execution_count": 10,
   "metadata": {},
   "outputs": [
    {
     "data": {
      "text/plain": [
       "7.778933279449316"
      ]
     },
     "execution_count": 10,
     "metadata": {},
     "output_type": "execute_result"
    }
   ],
   "source": [
    "###美式期权###\n",
    "def gbm_mcs_amer(K, option='call'):\n",
    "    ''' Valuation of American option in Black-Scholes-Merton\n",
    "    by Monte Carlo simulation by LSM algorithm\n",
    "    \n",
    "    Parameters\n",
    "    ==========\n",
    "    K : float\n",
    "        行权价\n",
    "    option : string\n",
    "        期权类型 ('call', 'put')\n",
    "    \n",
    "    Returns\n",
    "    =======\n",
    "    C0 : float\n",
    "        美式期权现值的估计\n",
    "    '''\n",
    "    dt = T / M\n",
    "    df = np.exp(-r * dt)\n",
    "    # 模拟价格路径\n",
    "    S = np.zeros((M + 1, I))\n",
    "    S[0] = S0\n",
    "    sn = gen_sn(M, I)\n",
    "    for t in range(1, M + 1):\n",
    "        S[t] = S[t - 1] * np.exp((r - 0.5 * sigma ** 2) * dt \n",
    "                + sigma * np.sqrt(dt) * sn[t])\n",
    "    # 回报计算\n",
    "    if option == 'call':\n",
    "        h = np.maximum(S - K, 0)\n",
    "    else:\n",
    "        h = np.maximum(K - S, 0)\n",
    "    # LSM算法\n",
    "    V = np.copy(h)\n",
    "    for t in range(M - 1, 0, -1):\n",
    "        reg = np.polyfit(S[t], V[t + 1] * df, 7)\n",
    "        C = np.polyval(reg, S[t])\n",
    "        V[t] = np.where(C > h[t], V[t + 1] * df, h[t])\n",
    "    # MCS估计值\n",
    "    C0 = df * 1 / I * np.sum(V[1])\n",
    "    return C0\n",
    "    \n",
    "gbm_mcs_amer(110., option='call')   "
   ]
  },
  {
   "cell_type": "code",
   "execution_count": 11,
   "metadata": {},
   "outputs": [
    {
     "data": {
      "text/plain": [
       "13.614023206242445"
      ]
     },
     "execution_count": 11,
     "metadata": {},
     "output_type": "execute_result"
    }
   ],
   "source": [
    "gbm_mcs_amer(110., option='put')\n"
   ]
  },
  {
   "cell_type": "code",
   "execution_count": 12,
   "metadata": {
    "scrolled": false
   },
   "outputs": [
    {
     "data": {
      "image/png": "[encoded data removed]",
      "text/plain": [
       "<Figure size 576x432 with 2 Axes>"
      ]
     },
     "metadata": {
      "needs_background": "light"
     },
     "output_type": "display_data"
    }
   ],
   "source": [
    "#比较欧式期权与美式期权\n",
    "euro_res = []\n",
    "amer_res = []\n",
    "k_list = np.arange(80., 120.1, 5.)\n",
    "for K in k_list:\n",
    "    euro_res.append(gbm_mcs_dyna(K, 'put'))\n",
    "    amer_res.append(gbm_mcs_amer(K, 'put'))\n",
    "euro_res = np.array(euro_res)\n",
    "amer_res = np.array(amer_res)\n",
    "\n",
    "fig, (ax1, ax2) = plt.subplots(2, 1, sharex=True, figsize=(8, 6))\n",
    "ax1.plot(k_list, euro_res, 'b', label='European put')\n",
    "ax1.plot(k_list, amer_res, 'ro', label='American put')\n",
    "ax1.set_ylabel('call option value')\n",
    "ax1.grid(True)\n",
    "ax1.legend(loc=0)\n",
    "wi = 1.0\n",
    "ax2.bar(k_list - wi / 2, (amer_res - euro_res) / euro_res * 100, wi)\n",
    "ax2.set_xlabel('strike')\n",
    "ax2.set_ylabel('early exercise premium in %')\n",
    "ax2.set_xlim(left=75, right=125)\n",
    "ax2.grid(True)"
   ]
  },
  {
   "cell_type": "code",
   "execution_count": null,
   "metadata": {},
   "outputs": [],
   "source": []
  }
 ],
 "metadata": {
  "kernelspec": {
   "display_name": "Python 3",
   "language": "python",
   "name": "python3"
  },
  "language_info": {
   "codemirror_mode": {
    "name": "ipython",
    "version": 3
   },
   "file_extension": ".py",
   "mimetype": "text/x-python",
   "name": "python",
   "nbconvert_exporter": "python",
   "pygments_lexer": "ipython3",
   "version": "3.7.3"
  },
  "toc": {
   "base_numbering": 1,
   "nav_menu": {},
   "number_sections": true,
   "sideBar": true,
   "skip_h1_title": false,
   "title_cell": "Table of Contents",
   "title_sidebar": "Contents",
   "toc_cell": false,
   "toc_position": {},
   "toc_section_display": true,
   "toc_window_display": false
  }
 },
 "nbformat": 4,
 "nbformat_minor": 2
}
