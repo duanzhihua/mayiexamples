{
 "cells": [
  {
   "cell_type": "markdown",
   "metadata": {},
   "source": [
    "https://mp.weixin.qq.com/s?__biz=MzIzMjY0MjE1MA==&mid=2247486680&idx=1&sn=ee79e798cb2c00ff4dd02609ca9c494d&chksm=e8908fd1dfe706c71f998ceec4e8c6a44a76778b8382313a5f773319765e8b1116bf3dbbeeec&scene=21#wechat_redirect"
   ]
  },
  {
   "cell_type": "markdown",
   "metadata": {},
   "source": [
    "本节介绍如何从量化平台「万矿」中读取数据来创建「多维数据表」的。\n",
    "\n",
    "\n",
    "\n",
    "首先在 https://www.windquant.com 注册一个账号，点击「研究」后在点开一个 Notebook 作为你的研究环境 (这是要夸奖一下万矿的 Notebook 体验真的不错，而且数据质量方面还有万德保证)。\n",
    "\n",
    "接着必须加载 WindPy，然后执行 w.start() 启动 API 接口："
   ]
  },
  {
   "cell_type": "code",
   "execution_count": null,
   "metadata": {},
   "outputs": [],
   "source": [
    "from WindPy import *\n",
    "w.start()"
   ]
  },
  {
   "cell_type": "markdown",
   "metadata": {},
   "source": [
    "WindPy 里面有几个获取数据的核心函数，分别是\n",
    "\n",
    "\n",
    "\n",
    "日期序列函数 wsd\n",
    "\n",
    "多维数据函数 wss\n",
    "\n",
    "行情数据函数 wsq\n",
    "\n",
    "分钟序列数据函数 wsi"
   ]
  },
  {
   "cell_type": "markdown",
   "metadata": {},
   "source": [
    "# 日期序列函数 wsd"
   ]
  },
  {
   "cell_type": "markdown",
   "metadata": {},
   "source": [
    "该函数支持股票、债券、基金、期货、指数等多种证券的基本资料、股东信息、市场行情、证券分析、预测评级、财务数据等各种数据，可以支持取单品种单指标、多品种单指标和单品种多指标的时间序列数据 (注：不支持多品种多指标)。函数定义如下\n",
    "\n",
    "w.wsd(security, fields, startdate, enddate, options)\n",
    "\n",
    "\n",
    "security = 证券代号，可以是 str 或 list \n",
    "\n",
    "fields = 指标，可以是 str 或 list\n",
    "\n",
    "startdate = 起始日，可以是 str 或 datetime\n",
    "\n",
    "enddate = 起始日，可以是 str 或 datetime\n",
    "\n",
    "options = 一些特定设置"
   ]
  },
  {
   "cell_type": "code",
   "execution_count": null,
   "metadata": {},
   "outputs": [],
   "source": [
    "# 单品种单指标\n",
    "code = \"000001.SZ\"\n",
    "factors = [\"close\"]\n",
    "startDate = \"2019-04-01\"\n",
    "endDate = \"2019-04-04\"\n",
    "data = w.wsd(code, factors, startDate, endDate, usedf=True )\n",
    "data"
   ]
  },
  {
   "cell_type": "code",
   "execution_count": null,
   "metadata": {},
   "outputs": [],
   "source": [
    "# 单品种多指标\n",
    "\n",
    "code = \"000001.SZ\"\n",
    "factors = \"open,low,high,close\"\n",
    "startDate = \"2019-04-01\"\n",
    "endDate = \"2019-04-04\"\n",
    "data = w.wsd(code, factors, startDate, endDate, usedf=True )\n",
    "data[1]"
   ]
  },
  {
   "cell_type": "code",
   "execution_count": null,
   "metadata": {},
   "outputs": [],
   "source": [
    "# 多品种单指标\n",
    "code = [\"000001.SZ\",\"000002.SZ\",\"600519.SH\"]\n",
    "factors = \"close\"\n",
    "startDate = \"2019-04-01\"\n",
    "endDate = \"2019-04-04\"\n",
    "data = w.wsd(code, factors, startDate, endDate, usedf=True )\n",
    "data[1]"
   ]
  },
  {
   "cell_type": "markdown",
   "metadata": {},
   "source": [
    "# 多维数据函数 wss\n",
    "该函数同样支持股票、债券、基金、期货、指数等多种证券的基本资料、股东信息、市场行情、证券分析、预测评级、财务数据等各种数据。但是 wss 支持取多品种多指标某个时间点的截面数据。函数定义如下\n",
    "\n",
    "w.wss(security, fields, option)\n",
    "\n",
    "\n",
    "security = 证券代号，可以是 str 或 list \n",
    "\n",
    "fields = 指标，可以是 str 或 list\n",
    "\n",
    "options = 一些特定设置"
   ]
  },
  {
   "cell_type": "code",
   "execution_count": null,
   "metadata": {},
   "outputs": [],
   "source": []
  },
  {
   "cell_type": "markdown",
   "metadata": {},
   "source": [
    "# 行情数据函数 wsq\n",
    "该函数支持股票、债券、基金、期货、指数等多种证券品种的实时行情数据。函数定义如下\n",
    "\n",
    "w.wsq(security, fields, func=None)\n",
    "\n",
    "\n",
    "security = 证券代号，可以是 str 或 list \n",
    "\n",
    "fields = 指标，可以是 str 或 list\n",
    "\n",
    "func = 回调函数\n",
    "\n",
    "\n",
    "\n"
   ]
  },
  {
   "cell_type": "markdown",
   "metadata": {},
   "source": [
    "# 分钟序列数据函数 wsi\n",
    "该函数获取选定证券品种的分钟线数据，包含基本行情和部分技术指标的分钟数据，分钟周期为 1-60 min，技术指标参数可以自定义设置。函数定义如下\n",
    "\n",
    "\n",
    "\n",
    "w.wsi(security, fields, starttime = None, endtime = None, options = None)\n",
    "\n",
    "\n",
    "\n",
    "security = 证券代号，可以是 str 或 list \n",
    "\n",
    "fields = 指标，可以是 str 或 list\n",
    "\n",
    "startdate = 起始日，可以是 str 或 datetime\n",
    "\n",
    "enddate = 起始日，可以是 str 或 datetime\n",
    "\n",
    "options = 一些特定设置\n",
    "\n",
    "\n",
    "\n",
    "获取中金所 IF 股指期货当月连续合约 2019-04-01 09:30:00 开始至 2019-04-01 09:40:00 的 1 分钟数据。"
   ]
  },
  {
   "cell_type": "code",
   "execution_count": null,
   "metadata": {},
   "outputs": [],
   "source": []
  }
 ],
 "metadata": {
  "kernelspec": {
   "display_name": "Python 3",
   "language": "python",
   "name": "python3"
  },
  "language_info": {
   "codemirror_mode": {
    "name": "ipython",
    "version": 3
   },
   "file_extension": ".py",
   "mimetype": "text/x-python",
   "name": "python",
   "nbconvert_exporter": "python",
   "pygments_lexer": "ipython3",
   "version": "3.7.3"
  },
  "toc": {
   "base_numbering": 1,
   "nav_menu": {},
   "number_sections": true,
   "sideBar": true,
   "skip_h1_title": false,
   "title_cell": "Table of Contents",
   "title_sidebar": "Contents",
   "toc_cell": false,
   "toc_position": {},
   "toc_section_display": true,
   "toc_window_display": true
  }
 },
 "nbformat": 4,
 "nbformat_minor": 2
}
