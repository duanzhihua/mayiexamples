{
 "cells": [
  {
   "cell_type": "code",
   "execution_count": 1,
   "metadata": {},
   "outputs": [],
   "source": [
    "import pandas as pd"
   ]
  },
  {
   "cell_type": "code",
   "execution_count": 6,
   "metadata": {},
   "outputs": [],
   "source": [
    "df = pd.read_excel('/Users/luoyonggui/Documents/sw.xlsx', converters={'股票代码': str})"
   ]
  },
  {
   "cell_type": "code",
   "execution_count": 7,
   "metadata": {},
   "outputs": [
    {
     "data": {
      "text/html": [
       "<div>\n",
       "<style scoped>\n",
       "    .dataframe tbody tr th:only-of-type {\n",
       "        vertical-align: middle;\n",
       "    }\n",
       "\n",
       "    .dataframe tbody tr th {\n",
       "        vertical-align: top;\n",
       "    }\n",
       "\n",
       "    .dataframe thead th {\n",
       "        text-align: right;\n",
       "    }\n",
       "</style>\n",
       "<table border=\"1\" class=\"dataframe\">\n",
       "  <thead>\n",
       "    <tr style=\"text-align: right;\">\n",
       "      <th></th>\n",
       "      <th>行业名称</th>\n",
       "      <th>股票代码</th>\n",
       "      <th>股票名称</th>\n",
       "      <th>起始日期</th>\n",
       "      <th>结束日期</th>\n",
       "    </tr>\n",
       "  </thead>\n",
       "  <tbody>\n",
       "    <tr>\n",
       "      <th>0</th>\n",
       "      <td>采掘</td>\n",
       "      <td>000552</td>\n",
       "      <td>靖远煤电</td>\n",
       "      <td>2008-06-02</td>\n",
       "      <td>NaN</td>\n",
       "    </tr>\n",
       "    <tr>\n",
       "      <th>1</th>\n",
       "      <td>采掘</td>\n",
       "      <td>000571</td>\n",
       "      <td>*ST大洲</td>\n",
       "      <td>2011-10-10</td>\n",
       "      <td>NaN</td>\n",
       "    </tr>\n",
       "    <tr>\n",
       "      <th>2</th>\n",
       "      <td>采掘</td>\n",
       "      <td>000629</td>\n",
       "      <td>攀钢钒钛</td>\n",
       "      <td>2015-10-31</td>\n",
       "      <td>NaN</td>\n",
       "    </tr>\n",
       "    <tr>\n",
       "      <th>3</th>\n",
       "      <td>采掘</td>\n",
       "      <td>000655</td>\n",
       "      <td>金岭矿业</td>\n",
       "      <td>2015-10-31</td>\n",
       "      <td>NaN</td>\n",
       "    </tr>\n",
       "    <tr>\n",
       "      <th>4</th>\n",
       "      <td>采掘</td>\n",
       "      <td>000723</td>\n",
       "      <td>美锦能源</td>\n",
       "      <td>2008-06-02</td>\n",
       "      <td>NaN</td>\n",
       "    </tr>\n",
       "  </tbody>\n",
       "</table>\n",
       "</div>"
      ],
      "text/plain": [
       "  行业名称    股票代码   股票名称       起始日期  结束日期\n",
       "0   采掘  000552   靖远煤电 2008-06-02   NaN\n",
       "1   采掘  000571  *ST大洲 2011-10-10   NaN\n",
       "2   采掘  000629   攀钢钒钛 2015-10-31   NaN\n",
       "3   采掘  000655   金岭矿业 2015-10-31   NaN\n",
       "4   采掘  000723   美锦能源 2008-06-02   NaN"
      ]
     },
     "execution_count": 7,
     "metadata": {},
     "output_type": "execute_result"
    }
   ],
   "source": [
    "df.head()"
   ]
  },
  {
   "cell_type": "code",
   "execution_count": 10,
   "metadata": {},
   "outputs": [
    {
     "data": {
      "text/plain": [
       "行业名称            object\n",
       "股票代码            object\n",
       "股票名称            object\n",
       "起始日期    datetime64[ns]\n",
       "结束日期           float64\n",
       "dtype: object"
      ]
     },
     "execution_count": 10,
     "metadata": {},
     "output_type": "execute_result"
    }
   ],
   "source": [
    "df.dtypes"
   ]
  },
  {
   "cell_type": "code",
   "execution_count": 8,
   "metadata": {},
   "outputs": [],
   "source": [
    "import sys\n",
    "sys.path.append('/Users/luoyonggui/PycharmProjects/mayiutils_n1/mayiutils/db')\n",
    "from pymongo_wrapper import PyMongoWrapper"
   ]
  },
  {
   "cell_type": "code",
   "execution_count": 9,
   "metadata": {},
   "outputs": [],
   "source": [
    "mongo = PyMongoWrapper()"
   ]
  },
  {
   "cell_type": "code",
   "execution_count": 11,
   "metadata": {},
   "outputs": [],
   "source": [
    "mongo.insertDataframe(df, 'finance', 'swclass')"
   ]
  },
  {
   "cell_type": "code",
   "execution_count": 13,
   "metadata": {},
   "outputs": [
    {
     "data": {
      "text/plain": [
       "28"
      ]
     },
     "execution_count": 13,
     "metadata": {},
     "output_type": "execute_result"
    }
   ],
   "source": [
    "df.行业名称.nunique()"
   ]
  },
  {
   "cell_type": "code",
   "execution_count": 12,
   "metadata": {},
   "outputs": [
    {
     "data": {
      "text/plain": [
       "机械设备    341\n",
       "化工      338\n",
       "医药生物    306\n",
       "电子      250\n",
       "计算机     213\n",
       "电气设备    193\n",
       "汽车      173\n",
       "传媒      167\n",
       "公用事业    161\n",
       "房地产     132\n",
       "轻工制造    128\n",
       "建筑装饰    127\n",
       "交通运输    116\n",
       "有色金属    115\n",
       "通信      101\n",
       "商业贸易     96\n",
       "食品饮料     95\n",
       "纺织服装     84\n",
       "农林牧渔     84\n",
       "非银金融     79\n",
       "国防军工     67\n",
       "建筑材料     67\n",
       "采掘       66\n",
       "家用电器     58\n",
       "综合       34\n",
       "银行       33\n",
       "休闲服务     33\n",
       "钢铁       31\n",
       "Name: 行业名称, dtype: int64"
      ]
     },
     "execution_count": 12,
     "metadata": {},
     "output_type": "execute_result"
    }
   ],
   "source": [
    "df.行业名称.value_counts()"
   ]
  },
  {
   "cell_type": "code",
   "execution_count": null,
   "metadata": {},
   "outputs": [],
   "source": []
  }
 ],
 "metadata": {
  "kernelspec": {
   "display_name": "Python 3",
   "language": "python",
   "name": "python3"
  },
  "language_info": {
   "codemirror_mode": {
    "name": "ipython",
    "version": 3
   },
   "file_extension": ".py",
   "mimetype": "text/x-python",
   "name": "python",
   "nbconvert_exporter": "python",
   "pygments_lexer": "ipython3",
   "version": "3.7.3"
  },
  "toc": {
   "base_numbering": 1,
   "nav_menu": {},
   "number_sections": true,
   "sideBar": true,
   "skip_h1_title": false,
   "title_cell": "Table of Contents",
   "title_sidebar": "Contents",
   "toc_cell": false,
   "toc_position": {},
   "toc_section_display": true,
   "toc_window_display": false
  }
 },
 "nbformat": 4,
 "nbformat_minor": 2
}
